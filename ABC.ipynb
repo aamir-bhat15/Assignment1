{
 "cells": [
  {
   "cell_type": "code",
   "execution_count": null,
   "id": "c70fe823-506b-4b45-9b1f-c0b0995d6bfc",
   "metadata": {},
   "outputs": [],
   "source": [
    "Q1. What is a database? Differentiate between SQL and NoSQL databases. \n",
    "Ans: Database is the process of storing the data in one place. \n",
    "Through database we can manage our data, manipulate, add, delete etc. \n",
    "SQL: Structured Query Language also called relational database. \n",
    "SQL requires us to use predefined schemas to determine the structure of our data before we work with it. \n",
    "Also, all of our data must follow the same structure. \n",
    "NoSql: Not only SQL also called non-relational database. \n",
    "A NoSQL database has a dynamic schema for unstructured data. \n",
    "Data is stored in many ways which means it can be document-oriented, column-oriented, graph-based, or organized as a key-value store."
   ]
  },
  {
   "cell_type": "code",
   "execution_count": null,
   "id": "c92b1bd7-343d-41d5-a57e-d78098b55c79",
   "metadata": {},
   "outputs": [],
   "source": [
    "Q2. What is DDL? Explain why CREATE, DROP, ALTER, and TRUNCATE are used with an example. \n",
    "Ans: DDL:Data Definition Language,consists of the SQL commands that can be used to define the database schema. \n",
    "It simply deals with descriptions of the database schema and is used to create and modify the structure of database objects in the database. \n",
    "DDL is a set of SQL commands used to create, modify, and delete database structures but not data.\n",
    "\n",
    "Create: This command is used to create the database or its objects (like table, index, function, views, store procedure, and triggers). \n",
    "Create database database_name Drop: This command is used to delete objects from the database. \n",
    "Drop database_name Alter: This is used to alter the structure of the database. \n",
    "Alter table Students Add Email varchar(255); \n",
    "Truncate: This is used to remove all records from a table, including all spaces allocated for the records are removed. \n",
    "Truncate Table table_name"
   ]
  },
  {
   "cell_type": "code",
   "execution_count": null,
   "id": "9652d134-9fef-4725-b17b-d9c12c66d96a",
   "metadata": {},
   "outputs": [],
   "source": [
    "Q3. What is DML? Explain INSERT, UPDATE, and DELETE with an example. \n",
    "And: DML:Data Manipulation Language, SQL commands that deal with the manipulation of data present in the database belong to DML or Data Manipulation Language and this includes most of the SQL statements.\n",
    "\n",
    "INSERT: It is used to insert data into a table. \n",
    "INSERT INTO table_name VALUES (value1, value2, value3); UPDATE: It is used to update existing data within a table. \n",
    "UPDATE table_name SET column1 = value1 where column2 = XYZ DELETE: It is used to delete records from a database table. \n",
    "DELETE FROM table_name WHERE some_condition"
   ]
  },
  {
   "cell_type": "code",
   "execution_count": null,
   "id": "e1b6d140-a0ad-49a5-a156-f0dc2ee9132a",
   "metadata": {},
   "outputs": [],
   "source": [
    "Q4. What is DQL? Explain SELECT with an example. \n",
    "Ans: DQL:Data Query Language, The purpose of the DQL Command is to get some schema relation based on the query passed to it. \n",
    "Select * from Table_name"
   ]
  },
  {
   "cell_type": "code",
   "execution_count": null,
   "id": "68de001d-2d76-4063-b3bd-70103052b46a",
   "metadata": {},
   "outputs": [],
   "source": [
    "Q5. Explain Primary Key and Foreign Key. \n",
    "Ans: Primary Key: A primary key generally focuses on the uniqueness of the table. \n",
    "It is a column or a set of columns that uniquely distinguishes every row in the database. \n",
    "It means it should not have any duplicate value. Also, it doesn’t contain a NULL value.\n",
    "\n",
    "Foriegn Key: A foreign key is generally used to build a relationship between the two tables. \n",
    "The major purpose of the foreign key is to sustain data integrity between two separate instances of an entity."
   ]
  },
  {
   "cell_type": "code",
   "execution_count": null,
   "id": "dd9ba8b2-3ca1-4e79-87dc-4e6adebbff9c",
   "metadata": {},
   "outputs": [],
   "source": [
    "Q6. Write a python code to connect MySQL to python. Explain the cursor() and execute() method. \n",
    "Ans: Please refer to showdb.py,createdb.py,createtable.py,insertinottable.py and viewtable.py\n",
    "\n",
    "Cursor(): Allows Python code to execute PostgreSQL command in a database session. \n",
    "Cursors are created by the connection.cursor() method: they are bound to the connection for the entire lifetime and all the commands are executed in the context of the database session wrapped by the connection.\n",
    "\n",
    "execute(): Python’s built-in exec() function allows you to execute arbitrary Python code from a string or compiled code input.\n",
    "The exec() function can be handy when you need to run dynamically generated Python code"
   ]
  },
  {
   "cell_type": "code",
   "execution_count": null,
   "id": "4d9d8242-85a4-4860-8dd1-4f400bf297ce",
   "metadata": {},
   "outputs": [],
   "source": [
    "import mysql.connector\n",
    "mydb = mysql.connector.connect(\n",
    "  host=\"localhost\",\n",
    "  user=\"abc\",\n",
    "  password=\"password\"\n",
    ")\n",
    "mycursor = mydb.cursor()\n",
    "mycursor.execute(\"CREATE DATABASE TEST2\")"
   ]
  },
  {
   "cell_type": "code",
   "execution_count": null,
   "id": "a2cb9238-f357-4bc4-894d-402b6e299667",
   "metadata": {},
   "outputs": [],
   "source": [
    "import mysql.connector\n",
    "# import mysql.connector\n",
    "#create user 'user'@'%' identified by 'password'\n",
    "mydb = mysql.connector.connect(\n",
    "  host=\"localhost\",\n",
    "  user=\"abc\",\n",
    "  password=\"password\"\n",
    ")\n",
    "print(mydb)\n",
    "mycursor = mydb.cursor()\n",
    "mycursor.execute(\"SHOW DATABASES\")\n",
    "for x in mycursor:\n",
    "  print(x)"
   ]
  },
  {
   "cell_type": "code",
   "execution_count": null,
   "id": "673606d7-3274-421f-b14a-13226ea18d1b",
   "metadata": {},
   "outputs": [],
   "source": [
    "import mysql.connector\n",
    "mydb = mysql.connector.connect(\n",
    "  host=\"localhost\",\n",
    "  user=\"abc\",\n",
    "  password=\"password\"\n",
    ")\n",
    "mycursor = mydb.cursor()\n",
    "\n",
    "mycursor.execute(\"CREATE TABLE TEST2.TEST2_TABLE(Age int, Name varchar(50))\")\n",
    "mydb.close()"
   ]
  },
  {
   "cell_type": "code",
   "execution_count": null,
   "id": "8ef5ac54-195d-4ae4-b5f7-62abce98d043",
   "metadata": {},
   "outputs": [],
   "source": [
    "import mysql.connector\n",
    "mydb = mysql.connector.connect(\n",
    "  host=\"localhost\",\n",
    "  user=\"abc\",\n",
    "  password=\"password\"\n",
    ")\n",
    "mycursor = mydb.cursor()\n",
    "mycursor.execute(\"insert into TEST2.TEST2_TABLE values(25,'Aamir')\")\n",
    "mydb.commit()\n",
    "mydb.close()"
   ]
  },
  {
   "cell_type": "code",
   "execution_count": null,
   "id": "1546323c-e031-4e55-89d5-0e57a95f085b",
   "metadata": {},
   "outputs": [],
   "source": [
    "import mysql.connector\n",
    "mydb = mysql.connector.connect(\n",
    "  host=\"localhost\",\n",
    "  user=\"abc\",\n",
    "  password=\"password\"\n",
    ")\n",
    "mycursor = mydb.cursor()\n",
    "mycursor.execute(\"select * from TEST2.TEST2_TABLE\")\n",
    "for i in mycursor.fetchall():\n",
    "    print(i)"
   ]
  },
  {
   "cell_type": "code",
   "execution_count": null,
   "id": "cc74dd95-af51-495a-85c7-b098081bdd62",
   "metadata": {},
   "outputs": [],
   "source": [
    "Q7. Give the order of execution of SQL clauses in an SQL query. \n",
    "Ans:\n",
    "\n",
    "from\n",
    "where\n",
    "groupby\n",
    "having\n",
    "select\n",
    "order by\n",
    "limit"
   ]
  }
 ],
 "metadata": {
  "kernelspec": {
   "display_name": "Python 3 (ipykernel)",
   "language": "python",
   "name": "python3"
  },
  "language_info": {
   "codemirror_mode": {
    "name": "ipython",
    "version": 3
   },
   "file_extension": ".py",
   "mimetype": "text/x-python",
   "name": "python",
   "nbconvert_exporter": "python",
   "pygments_lexer": "ipython3",
   "version": "3.10.8"
  }
 },
 "nbformat": 4,
 "nbformat_minor": 5
}
