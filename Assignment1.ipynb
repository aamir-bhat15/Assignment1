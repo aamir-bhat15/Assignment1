{
 "cells": [
  {
   "cell_type": "markdown",
   "id": "c53a8532-0337-4ef7-ab5d-8a001e003e5c",
   "metadata": {},
   "source": [
    "Q1. Create one variable containing following type of data:\n",
    "(i) string\n",
    "(ii) list\n",
    "(iii) float\n",
    "(iv) tuple\n"
   ]
  },
  {
   "cell_type": "code",
   "execution_count": 1,
   "id": "ce4f915d-2b88-4dd3-bb07-378462b08768",
   "metadata": {},
   "outputs": [],
   "source": [
    "s=\"Aamir\"\n",
    "l=[1,2,3,4,5,\"Aamir\"]\n",
    "f=1.4\n",
    "t={1,2,3,4,\"Aamir\"}"
   ]
  },
  {
   "cell_type": "markdown",
   "id": "24ee6a3a-e044-4630-bbd3-83587fe87eab",
   "metadata": {},
   "source": [
    "Q2. Given are some following variables containing data:\n",
    "(i) var1 = ‘ ‘\n",
    "(ii) var2 = ‘[ DS , ML , Python]’\n",
    "(iii) var3 = [ ‘DS’ , ’ML’ , ‘Python’ ]\n",
    "(iv) var4 = 1.\n"
   ]
  },
  {
   "cell_type": "code",
   "execution_count": 12,
   "id": "50c4a5c6-b858-44ba-ab43-ed009e91a38b",
   "metadata": {},
   "outputs": [
    {
     "data": {
      "text/plain": [
       "str"
      ]
     },
     "execution_count": 12,
     "metadata": {},
     "output_type": "execute_result"
    }
   ],
   "source": [
    "var1=''\n",
    "type(var1)\n"
   ]
  },
  {
   "cell_type": "code",
   "execution_count": 10,
   "id": "c53fff4f-f60b-4e60-971e-532956e0d3b1",
   "metadata": {},
   "outputs": [
    {
     "data": {
      "text/plain": [
       "str"
      ]
     },
     "execution_count": 10,
     "metadata": {},
     "output_type": "execute_result"
    }
   ],
   "source": [
    "var2='[ DS , ML , Python]'\n",
    "type(var2)"
   ]
  },
  {
   "cell_type": "code",
   "execution_count": 11,
   "id": "880d9fee-fedf-4e25-be02-644afb5c6203",
   "metadata": {},
   "outputs": [
    {
     "data": {
      "text/plain": [
       "list"
      ]
     },
     "execution_count": 11,
     "metadata": {},
     "output_type": "execute_result"
    }
   ],
   "source": [
    "var3=[ 'DS' , 'ML' , 'Python']\n",
    "type(var3)"
   ]
  },
  {
   "cell_type": "code",
   "execution_count": 13,
   "id": "310f78c1-86d2-4813-b209-c5cd12a7eafa",
   "metadata": {},
   "outputs": [
    {
     "data": {
      "text/plain": [
       "int"
      ]
     },
     "execution_count": 13,
     "metadata": {},
     "output_type": "execute_result"
    }
   ],
   "source": [
    "var4=1\n",
    "type(var4)"
   ]
  },
  {
   "cell_type": "markdown",
   "id": "7232d8f6-5d99-45fc-b7e9-c291579c064f",
   "metadata": {},
   "source": [
    "Q3. Explain the use of the following operators using an example:"
   ]
  },
  {
   "cell_type": "markdown",
   "id": "405eb2bd-5129-4e0d-a2ec-8c93587c66b0",
   "metadata": {},
   "source": [
    "/"
   ]
  },
  {
   "cell_type": "markdown",
   "id": "afed1c4d-35ef-46a0-92ba-4dc159a998e2",
   "metadata": {},
   "source": [
    "This is division and it comes from arthimetic operator\n",
    "\n",
    "  Eg: 45/9 -->Output=5.0\n",
    "  \n",
    "      46/9 -->Output=5.11\n",
    "      \n",
    "      35/9 -->Output=3.88\n"
   ]
  },
  {
   "cell_type": "markdown",
   "id": "fc0f110f-27d4-49cc-adc1-a636289ed23e",
   "metadata": {},
   "source": [
    "%"
   ]
  },
  {
   "cell_type": "markdown",
   "id": "70e0e9f4-9fa7-493b-b737-a91970ff97f5",
   "metadata": {},
   "source": [
    "This is Modulus operator its output is the reminder when we diivde 2 no's.\n",
    "\n",
    "\n",
    "   Eg: 35%9   output=8"
   ]
  },
  {
   "cell_type": "markdown",
   "id": "32ab6dc6-b9e1-48ca-a608-3db5ad949785",
   "metadata": {},
   "source": [
    "//"
   ]
  },
  {
   "cell_type": "markdown",
   "id": "6ee36aac-3934-4c59-82fd-674f5d8788fd",
   "metadata": {},
   "source": [
    "This is floar division, its gives output in int.\n",
    "\n",
    "Eg: 46//9   Output=5"
   ]
  },
  {
   "cell_type": "markdown",
   "id": "4053983b-ce95-4efe-bd38-0ddc6f545c1b",
   "metadata": {},
   "source": [
    "**"
   ]
  },
  {
   "cell_type": "markdown",
   "id": "8edd1045-1e91-4d37-bc2d-1ff1e83570b3",
   "metadata": {},
   "source": [
    "This is Exponentiation Operator.\n",
    "\n",
    "Eg: 2**3=8"
   ]
  },
  {
   "cell_type": "markdown",
   "id": "78d6a2f6-0bd9-4abc-a66b-ffffc34a6228",
   "metadata": {},
   "source": [
    "Q4. Create a list of length 10 of your choice containing multiple types of data. Using for loop print the\n",
    "element and its data type."
   ]
  },
  {
   "cell_type": "code",
   "execution_count": 52,
   "id": "2fdb989c-1edb-4e8b-a675-2a991650dbf5",
   "metadata": {},
   "outputs": [
    {
     "name": "stdout",
     "output_type": "stream",
     "text": [
      "1 its data type <class 'int'>\n",
      "4 its data type <class 'int'>\n",
      "5 its data type <class 'int'>\n",
      "9 its data type <class 'int'>\n",
      "Abc its data type <class 'str'>\n",
      "pwskill its data type <class 'str'>\n",
      "data science its data type <class 'str'>\n",
      "2.0 its data type <class 'float'>\n",
      "Experience its data type <class 'str'>\n",
      "Graduate its data type <class 'str'>\n"
     ]
    }
   ],
   "source": [
    "list1=[1,4,5,9,'Abc','pwskill','data science',2.0,'Experience','Graduate']\n",
    "for i in list1:\n",
    "    print(i,\"its data type\",type(i))"
   ]
  },
  {
   "cell_type": "markdown",
   "id": "bf2657e2-e6a3-4c5e-a5bd-12b5fd2f0a68",
   "metadata": {},
   "source": [
    "Q5. Using a while loop, verify if the number A is purely divisible by number B and if so then how many\n",
    "times it can be divisible.\n"
   ]
  },
  {
   "cell_type": "code",
   "execution_count": 41,
   "id": "c1849b68-1c3b-4d35-bc32-42986fbee454",
   "metadata": {},
   "outputs": [
    {
     "name": "stdin",
     "output_type": "stream",
     "text": [
      "Enter first number 20\n",
      "Enter second number 3\n"
     ]
    },
    {
     "name": "stdout",
     "output_type": "stream",
     "text": [
      "0\n"
     ]
    }
   ],
   "source": [
    "A=int(input(\"Enter first number\"))\n",
    "B=int(input(\"Enter second number\"))\n",
    "count=0\n",
    "while(A>=B):\n",
    "    if(A%B==0):\n",
    "        count+=1\n",
    "        A/=B\n",
    "    else:\n",
    "        break\n",
    "print(count)"
   ]
  },
  {
   "cell_type": "markdown",
   "id": "4bfbe6a5-3b93-453c-8fa8-e98c0a9f3e62",
   "metadata": {},
   "source": [
    "Q6. Create a list containing 25 int type data. Using for loop and if-else condition print if the element is\n",
    "divisible by 3 or not."
   ]
  },
  {
   "cell_type": "code",
   "execution_count": 48,
   "id": "7bea230a-7c50-4bd6-b598-07a5399d6000",
   "metadata": {},
   "outputs": [
    {
     "name": "stdout",
     "output_type": "stream",
     "text": [
      "This number is not 1 divisble by 3\n",
      "This number is not 2 divisble by 3\n",
      "This number is 3 divisble by 3\n",
      "This number is not 4 divisble by 3\n",
      "This number is not 5 divisble by 3\n",
      "This number is 6 divisble by 3\n",
      "This number is not 7 divisble by 3\n",
      "This number is not 8 divisble by 3\n",
      "This number is 9 divisble by 3\n",
      "This number is not 10 divisble by 3\n",
      "This number is not 11 divisble by 3\n",
      "This number is 12 divisble by 3\n",
      "This number is not 13 divisble by 3\n",
      "This number is not 14 divisble by 3\n",
      "This number is 15 divisble by 3\n",
      "This number is not 16 divisble by 3\n",
      "This number is not 17 divisble by 3\n",
      "This number is 18 divisble by 3\n",
      "This number is not 19 divisble by 3\n",
      "This number is not 20 divisble by 3\n",
      "This number is 21 divisble by 3\n",
      "This number is not 22 divisble by 3\n",
      "This number is not 23 divisble by 3\n",
      "This number is 24 divisble by 3\n",
      "This number is not 25 divisble by 3\n"
     ]
    }
   ],
   "source": [
    "list=[1,2,3,4,5,6,7,8,9,10,11,12,13,14,15,16,17,18,19,20,21,22,23,24,25]\n",
    "\n",
    "for i in list:\n",
    "    if(i%3==0):\n",
    "        print(f\"This number is {i} divisble by 3\")\n",
    "    else:\n",
    "        print(f\"This number is not {i} divisble by 3\")"
   ]
  },
  {
   "cell_type": "markdown",
   "id": "49a30b36-5f8d-42f5-a688-038ea8b355d8",
   "metadata": {},
   "source": [
    "Q7. What do you understand about mutable and immutable data types? Give examples for both showing\n",
    "this property."
   ]
  },
  {
   "cell_type": "markdown",
   "id": "494be760-8aab-432a-9901-bf90ef8da190",
   "metadata": {},
   "source": [
    "Mutable means we are able to add the element or change the element at particular index.\n",
    "\n",
    "Eg: list is mutable\n",
    "\n",
    "Immutable means we are not able to add the element or change the element at particular index.\n",
    "\n",
    "Eg: Strings are immutable"
   ]
  },
  {
   "cell_type": "code",
   "execution_count": null,
   "id": "30264316-3779-4868-aa74-56e4a756d617",
   "metadata": {},
   "outputs": [],
   "source": []
  }
 ],
 "metadata": {
  "kernelspec": {
   "display_name": "Python 3 (ipykernel)",
   "language": "python",
   "name": "python3"
  },
  "language_info": {
   "codemirror_mode": {
    "name": "ipython",
    "version": 3
   },
   "file_extension": ".py",
   "mimetype": "text/x-python",
   "name": "python",
   "nbconvert_exporter": "python",
   "pygments_lexer": "ipython3",
   "version": "3.10.8"
  }
 },
 "nbformat": 4,
 "nbformat_minor": 5
}
