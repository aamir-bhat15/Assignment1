{
 "cells": [
  {
   "cell_type": "markdown",
   "id": "47e11c87-5884-4c78-b013-8b32a3b46064",
   "metadata": {},
   "source": [
    "<aside>\n",
    "💡 **Q1.** Given an array of integers nums and an integer target, return indices of the two numbers such that they add up to target.\n",
    "\n",
    "You may assume that each input would have exactly one solution, and you may not use the same element twice.\n",
    "\n",
    "You can return the answer in any order.\n",
    "\n",
    "**Example:**\n",
    "Input: nums = [2,7,11,15], target = 9\n",
    "Output0 [0,1]\n",
    "\n",
    "**Explanation:** Because nums[0] + nums[1] == 9, we return [0, 1]\n",
    "\n",
    "</aside>"
   ]
  },
  {
   "cell_type": "code",
   "execution_count": 22,
   "id": "72608b07-35b1-4dfd-9c71-62b85c0ad8f6",
   "metadata": {},
   "outputs": [
    {
     "name": "stdout",
     "output_type": "stream",
     "text": [
      "0 3\n"
     ]
    }
   ],
   "source": [
    "nums=[2,11,15,7]\n",
    "target=9\n",
    "#nums=list(filter(lambda x:x<9,nums))\n",
    "\n",
    "for i in range(0,len(nums)-1):\n",
    "    \n",
    "    for j in range(i+1,len(nums)):\n",
    "        \n",
    "        if nums[i]+nums[j]==9:\n",
    "            print(i,j)"
   ]
  },
  {
   "cell_type": "markdown",
   "id": "62498907-1cbc-4bb0-8d6c-60e0fa3b7a64",
   "metadata": {},
   "source": [
    "<aside>\n",
    "💡 **Q2.** Given an integer array nums and an integer val, remove all occurrences of val in nums in-place. The order of the elements may be changed. Then return the number of elements in nums which are not equal to val.\n",
    "\n",
    "Consider the number of elements in nums which are not equal to val be k, to get accepted, you need to do the following things:\n",
    "\n",
    "- Change the array nums such that the first k elements of nums contain the elements which are not equal to val. The remaining elements of nums are not important as well as the size of nums.\n",
    "- Return k.\n",
    "\n",
    "**Example :**\n",
    "Input: nums = [3,2,2,3], val = 3\n",
    "Output: 2, nums = [2,2,_*,_*]\n",
    "\n",
    "**Explanation:** Your function should return k = 2, with the first two elements of nums being 2. It does not matter what you leave beyond the returned k (hence they are underscores\n",
    "\n",
    "</aside>"
   ]
  },
  {
   "cell_type": "markdown",
   "id": "38d9ddc3-2c89-403a-b4d3-8438723643ba",
   "metadata": {},
   "source": [
    "<aside>\n",
    "💡 Given a sorted array of distinct integers and a target value, return the index if the target is found. If not, return the index where it would be if it were inserted in order.\n",
    "\n",
    "You must write an algorithm with O(log n) runtime complexity.\n",
    "\n",
    "**Example 1:**\n",
    "Input: nums = [1,3,5,6], target = 5\n",
    "\n",
    "</aside>"
   ]
  },
  {
   "cell_type": "code",
   "execution_count": 24,
   "id": "a0828144-0d1b-4f8d-a713-fd2704cd29ee",
   "metadata": {},
   "outputs": [],
   "source": [
    "def check():\n",
    "    nums=[1,3,5,6]\n",
    "    target=5\n",
    "    nums=list(filter(lambda x:x<=target,nums))\n",
    "#print(nums)\n",
    "    if len(nums)==0:\n",
    "       return 0\n",
    "#print(len(nums))\n",
    "    if target>nums[-1]:\n",
    "        return len(nums)\n",
    "    elif target==nums[-1]:\n",
    "        return len(nums)-1"
   ]
  },
  {
   "cell_type": "code",
   "execution_count": 25,
   "id": "dfabda6c-085b-462e-a588-9ad8032c6e13",
   "metadata": {},
   "outputs": [
    {
     "data": {
      "text/plain": [
       "2"
      ]
     },
     "execution_count": 25,
     "metadata": {},
     "output_type": "execute_result"
    }
   ],
   "source": [
    "check()"
   ]
  },
  {
   "cell_type": "code",
   "execution_count": null,
   "id": "68ef8e10-1ecf-4639-a7ae-a086c2dc3116",
   "metadata": {},
   "outputs": [],
   "source": [
    "<aside>\n",
    "💡 You are given a large integer represented as an integer array digits, where each digits[i] is the ith digit of the integer. The digits are ordered from most significant to least significant in left-to-right order. The large integer does not contain any leading 0's.\n",
    "\n",
    "Increment the large integer by one and return the resulting array of digits.\n",
    "\n",
    "**Example 1:**\n",
    "Input: digits = [1,2,3]\n",
    "Output: [1,2,4]\n",
    "\n",
    "**Explanation:** The array represents the integer 123.\n",
    "\n",
    "</aside>"
   ]
  },
  {
   "cell_type": "code",
   "execution_count": 26,
   "id": "b61115ba-15a2-4d06-bb5f-d5dd7eb7e9f6",
   "metadata": {},
   "outputs": [],
   "source": [
    "def carry():  \n",
    "        digits=[1,9,9]\n",
    "        carry = 0\n",
    "        n = len(digits)\n",
    "        for i in reversed(range(n)):\n",
    "            \n",
    "            val = digits[i] + carry + 1 if i == n-1 else digits[i] + carry\n",
    "            \n",
    "            if val <= 9:\n",
    "                digits[i] = val\n",
    "                \n",
    "                carry = 0\n",
    "            else:\n",
    "                carry = val // 10\n",
    "                val -= 10\n",
    "                digits[i] = val\n",
    "                \n",
    "        if carry:\n",
    "            digits.insert(0, carry)\n",
    "        return digits"
   ]
  },
  {
   "cell_type": "code",
   "execution_count": 27,
   "id": "c6ca6e3c-9953-478e-b2a6-01bce6e78e94",
   "metadata": {},
   "outputs": [
    {
     "data": {
      "text/plain": [
       "[2, 0, 0]"
      ]
     },
     "execution_count": 27,
     "metadata": {},
     "output_type": "execute_result"
    }
   ],
   "source": [
    "carry()"
   ]
  },
  {
   "cell_type": "code",
   "execution_count": null,
   "id": "6436a0ea-948a-41ba-b48d-6513386a1f77",
   "metadata": {},
   "outputs": [],
   "source": [
    "<aside>\n",
    "💡 You are given two integer arrays nums1 and nums2, sorted in non-decreasing order, and two integers m and n, representing the number of elements in nums1 and nums2 respectively.\n",
    "\n",
    "Merge nums1 and nums2 into a single array sorted in non-decreasing order.\n",
    "\n",
    "The final sorted array should not be returned by the function, but instead be stored inside the array nums1. To accommodate this, nums1 has a length of m + n, where the first m elements denote the elements that should be merged, and the last n elements are set to 0 and should be ignored. nums2 has a length of n.\n",
    "\n",
    "</aside>"
   ]
  },
  {
   "cell_type": "code",
   "execution_count": 30,
   "id": "0f6dcbd5-094c-4564-ad5d-8d0cfd0d60be",
   "metadata": {},
   "outputs": [
    {
     "name": "stdout",
     "output_type": "stream",
     "text": [
      "[1, 2, 2, 3, 5, 6]\n"
     ]
    }
   ],
   "source": [
    "num1=[1,2,3,0,0,0]\n",
    "num2=[2,5,6]\n",
    "n=len(num2)\n",
    "num1+=num2\n",
    "while n!=0:\n",
    "    \n",
    "    num1.remove(0)\n",
    "    n-=1\n",
    "\n",
    "num1.sort()\n",
    "print(num1)"
   ]
  },
  {
   "cell_type": "code",
   "execution_count": null,
   "id": "4295f1b1-e066-4f44-b24d-02ab30a35ccd",
   "metadata": {},
   "outputs": [],
   "source": [
    "<aside>\n",
    "💡 Given an integer array nums, return true if any value appears at least twice in the array, and return false if every element is distinct.\n",
    "\n",
    "**Example 1:**\n",
    "Input: nums = [1,2,3,1]\n",
    "\n",
    "</aside>"
   ]
  },
  {
   "cell_type": "code",
   "execution_count": 1,
   "id": "e0d038e9-7a41-46c8-92bc-6cbbe4e76ae6",
   "metadata": {},
   "outputs": [],
   "source": [
    "def value():\n",
    "    nums=[0,2,4,5,0]\n",
    "    if len(set(nums))!=len(nums):\n",
    "        return True\n",
    "    else:\n",
    "        return False"
   ]
  },
  {
   "cell_type": "code",
   "execution_count": 2,
   "id": "b38fe122-0c72-4b16-8cb3-f7ffd2907495",
   "metadata": {},
   "outputs": [
    {
     "data": {
      "text/plain": [
       "True"
      ]
     },
     "execution_count": 2,
     "metadata": {},
     "output_type": "execute_result"
    }
   ],
   "source": [
    "value()"
   ]
  },
  {
   "cell_type": "code",
   "execution_count": null,
   "id": "16339005-6933-437a-8cf3-e53f11a6b229",
   "metadata": {},
   "outputs": [],
   "source": [
    "<aside>\n",
    "💡  Given an integer array nums, move all 0's to the end of it while maintaining the relative order of the nonzero elements.\n",
    "\n",
    "Note that you must do this in-place without making a copy of the array.\n",
    "\n",
    "**Example 1:**\n",
    "Input: nums = [0,1,0,3,12]\n",
    "Output: [1,3,12,0,0]\n",
    "\n",
    "</aside>"
   ]
  },
  {
   "cell_type": "code",
   "execution_count": 7,
   "id": "7a11d4fd-9ebc-45fd-b3a8-e85ca2407593",
   "metadata": {},
   "outputs": [],
   "source": [
    "def zero():\n",
    "    nums=[0,2,3,4,0]\n",
    "    for i in range(0,len(nums)):\n",
    "        if nums[i]==0:\n",
    "            nums.remove(nums[i])\n",
    "            nums.append(0)\n",
    "    return nums"
   ]
  },
  {
   "cell_type": "code",
   "execution_count": 8,
   "id": "e33826af-a75b-4434-91a3-535716da58a0",
   "metadata": {},
   "outputs": [
    {
     "data": {
      "text/plain": [
       "[2, 3, 4, 0, 0]"
      ]
     },
     "execution_count": 8,
     "metadata": {},
     "output_type": "execute_result"
    }
   ],
   "source": [
    "zero()"
   ]
  },
  {
   "cell_type": "code",
   "execution_count": 11,
   "id": "771d44a2-f851-4317-b2f7-0ac70237d484",
   "metadata": {},
   "outputs": [],
   "source": [
    "import math\n",
    "def findErrorNums():\n",
    "        length=len(nums) \n",
    "        sum_nums = length*(length+1)//2 #Sum of first n positive integers = n(n + 1)/2 \n",
    "        repetition = sum(nums) - sum(set(nums))\n",
    "        loss = sum_nums - sum(set(nums))\n",
    "        return [repetition,loss]\n"
   ]
  },
  {
   "cell_type": "code",
   "execution_count": 12,
   "id": "b25c50e2-3547-4c5d-ac82-b07ae2389134",
   "metadata": {},
   "outputs": [
    {
     "ename": "TypeError",
     "evalue": "'int' object is not callable",
     "output_type": "error",
     "traceback": [
      "\u001b[0;31m---------------------------------------------------------------------------\u001b[0m",
      "\u001b[0;31mTypeError\u001b[0m                                 Traceback (most recent call last)",
      "Cell \u001b[0;32mIn[12], line 1\u001b[0m\n\u001b[0;32m----> 1\u001b[0m \u001b[43mfindErrorNums\u001b[49m\u001b[43m(\u001b[49m\u001b[43m)\u001b[49m\n",
      "Cell \u001b[0;32mIn[11], line 5\u001b[0m, in \u001b[0;36mfindErrorNums\u001b[0;34m()\u001b[0m\n\u001b[1;32m      3\u001b[0m length\u001b[38;5;241m=\u001b[39m\u001b[38;5;28mlen\u001b[39m(nums) \n\u001b[1;32m      4\u001b[0m sum_nums \u001b[38;5;241m=\u001b[39m length\u001b[38;5;241m*\u001b[39m(length\u001b[38;5;241m+\u001b[39m\u001b[38;5;241m1\u001b[39m)\u001b[38;5;241m/\u001b[39m\u001b[38;5;241m/\u001b[39m\u001b[38;5;241m2\u001b[39m \u001b[38;5;66;03m#Sum of first n positive integers = n(n + 1)/2 \u001b[39;00m\n\u001b[0;32m----> 5\u001b[0m repetition \u001b[38;5;241m=\u001b[39m \u001b[38;5;28;43msum\u001b[39;49m\u001b[43m(\u001b[49m\u001b[43mnums\u001b[49m\u001b[43m)\u001b[49m \u001b[38;5;241m-\u001b[39m \u001b[38;5;28msum\u001b[39m(\u001b[38;5;28mset\u001b[39m(nums))\n\u001b[1;32m      6\u001b[0m loss \u001b[38;5;241m=\u001b[39m sum_nums \u001b[38;5;241m-\u001b[39m \u001b[38;5;28msum\u001b[39m(\u001b[38;5;28mset\u001b[39m(nums))\n\u001b[1;32m      7\u001b[0m \u001b[38;5;28;01mreturn\u001b[39;00m [repetition,loss]\n",
      "\u001b[0;31mTypeError\u001b[0m: 'int' object is not callable"
     ]
    }
   ],
   "source": [
    "findErrorNums()"
   ]
  },
  {
   "cell_type": "code",
   "execution_count": null,
   "id": "3dc4233f-a59e-42b2-b1e6-836da4ffc18a",
   "metadata": {},
   "outputs": [],
   "source": []
  }
 ],
 "metadata": {
  "kernelspec": {
   "display_name": "Python 3 (ipykernel)",
   "language": "python",
   "name": "python3"
  },
  "language_info": {
   "codemirror_mode": {
    "name": "ipython",
    "version": 3
   },
   "file_extension": ".py",
   "mimetype": "text/x-python",
   "name": "python",
   "nbconvert_exporter": "python",
   "pygments_lexer": "ipython3",
   "version": "3.10.8"
  }
 },
 "nbformat": 4,
 "nbformat_minor": 5
}
