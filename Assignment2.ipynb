{
 "cells": [
  {
   "cell_type": "markdown",
   "id": "189d5a26-73c3-4a67-ac43-f9ac066ac768",
   "metadata": {},
   "source": [
    "Q1. How do you comment code in Python? What are the different types of comments?"
   ]
  },
  {
   "cell_type": "code",
   "execution_count": 1,
   "id": "28067cc6-ccdb-4643-9466-f432ccf70f4f",
   "metadata": {},
   "outputs": [],
   "source": [
    "#This is single line comment"
   ]
  },
  {
   "cell_type": "code",
   "execution_count": 9,
   "id": "c2bb936b-5d01-4a3a-8a38-f52265bf6d64",
   "metadata": {},
   "outputs": [
    {
     "data": {
      "text/plain": [
       "\" This is multi line comment.\\nThere are two types of comments.\\n1. Single Line, it's represented by '#' symbol\\n2. Multi Line comments is used to comment multiple line at a time. Its is shown in this example \""
      ]
     },
     "execution_count": 9,
     "metadata": {},
     "output_type": "execute_result"
    }
   ],
   "source": [
    "''' This is multi line comment.\n",
    "There are two types of comments.\n",
    "1. Single Line, it's represented by '#' symbol\n",
    "2. Multi Line comments is used to comment multiple line at a time. Its is shown in this example '''"
   ]
  },
  {
   "cell_type": "markdown",
   "id": "2dbad814-7a27-4529-94fd-2a816881c474",
   "metadata": {},
   "source": [
    "Q2. What are variables in Python? How do you declare and assign values to variables?"
   ]
  },
  {
   "cell_type": "code",
   "execution_count": 10,
   "id": "9aac9bb8-7c11-4536-9c25-d3b7c6e288a3",
   "metadata": {},
   "outputs": [
    {
     "data": {
      "text/plain": [
       "'Varaibles are container for storing values.\\n    Variables can be alphabets combined with some special chacters and numbers\\n    EG:\\n    x=10\\n    name=\"Aamir\"\\n    sal=4.5\\n    Bol=True\\n'"
      ]
     },
     "execution_count": 10,
     "metadata": {},
     "output_type": "execute_result"
    }
   ],
   "source": [
    "'''Varaibles are container for storing values.\n",
    "    Variables can be alphabets combined with some special chacters and numbers\n",
    "    EG:\n",
    "    x=10\n",
    "    name=\"Aamir\"\n",
    "    sal=4.5\n",
    "    Bol=True\n",
    "'''"
   ]
  },
  {
   "cell_type": "markdown",
   "id": "fcee2aa7-ec3a-4e1e-9a0c-f0680bff473c",
   "metadata": {},
   "source": [
    "Q3. How do you convert one data type to another in Python?"
   ]
  },
  {
   "cell_type": "code",
   "execution_count": 19,
   "id": "078bfe76-759f-4871-bba0-24638b07ebaa",
   "metadata": {},
   "outputs": [
    {
     "data": {
      "text/plain": [
       "str"
      ]
     },
     "execution_count": 19,
     "metadata": {},
     "output_type": "execute_result"
    }
   ],
   "source": [
    "Age=20\n",
    "Age1=str(Age)\n",
    "type(Age1)"
   ]
  },
  {
   "cell_type": "code",
   "execution_count": 20,
   "id": "c5101eed-2542-4c07-999b-775d55654181",
   "metadata": {},
   "outputs": [
    {
     "data": {
      "text/plain": [
       "float"
      ]
     },
     "execution_count": 20,
     "metadata": {},
     "output_type": "execute_result"
    }
   ],
   "source": [
    "x=5\n",
    "x=float(x)\n",
    "type(x)"
   ]
  },
  {
   "cell_type": "markdown",
   "id": "f43dfe33-ce7d-4206-8d63-33ac11159093",
   "metadata": {},
   "source": [
    "Q4. How do you write and execute a Python script from the command line?"
   ]
  },
  {
   "cell_type": "code",
   "execution_count": null,
   "id": "833a6cda-82ec-4a16-8318-a4e0f6f108d3",
   "metadata": {},
   "outputs": [],
   "source": [
    "'''open a command line and type the word python followed by the path to your script file like this:"
   ]
  },
  {
   "cell_type": "markdown",
   "id": "5c05e56e-17ea-4500-82c9-3fd61b34182c",
   "metadata": {},
   "source": [
    "Q5. Given a list my_list = [1, 2, 3, 4, 5], write the code to slice the list and obtain the sub-list [2, 3]."
   ]
  },
  {
   "cell_type": "code",
   "execution_count": 21,
   "id": "f74f8433-92df-4ac0-be06-7036ff98f510",
   "metadata": {},
   "outputs": [
    {
     "data": {
      "text/plain": [
       "[2, 3]"
      ]
     },
     "execution_count": 21,
     "metadata": {},
     "output_type": "execute_result"
    }
   ],
   "source": [
    "my_list=[1,2,3,4,5]\n",
    "my_list[1:3]"
   ]
  },
  {
   "cell_type": "markdown",
   "id": "cf500262-76a6-4b94-9cc6-003979d87919",
   "metadata": {},
   "source": [
    "Q6. What is a complex number in mathematics, and how is it represented in Python?"
   ]
  },
  {
   "cell_type": "code",
   "execution_count": 33,
   "id": "1b44e056-c4f2-4e70-8cb8-af6a71efedc8",
   "metadata": {},
   "outputs": [
    {
     "name": "stdout",
     "output_type": "stream",
     "text": [
      "(5+3j)\n"
     ]
    }
   ],
   "source": [
    "''' Complex numbers are numbers consisting of both real no's as well as imaginary no's\n",
    "General representation of cn= 'x+yi',\n",
    "x= real number\n",
    "y= imaganary number\n",
    "'''\n",
    "x=5\n",
    "y=3\n",
    "z=complex(x,y)\n",
    "print(z)"
   ]
  },
  {
   "cell_type": "markdown",
   "id": "0eadc47d-864d-43fd-b074-db75150450d7",
   "metadata": {},
   "source": [
    "Q7. What is the correct way to declare a variable named age and assign the value 25 to it?"
   ]
  },
  {
   "cell_type": "code",
   "execution_count": 31,
   "id": "4f0eaaa3-5cbd-4734-80f3-a5b12fc5a82e",
   "metadata": {},
   "outputs": [
    {
     "name": "stdout",
     "output_type": "stream",
     "text": [
      "25 <class 'int'>\n"
     ]
    }
   ],
   "source": [
    "age=25\n",
    "print(age, type(age))"
   ]
  },
  {
   "cell_type": "markdown",
   "id": "45592d26-dbb2-4597-9e85-e5cc08438001",
   "metadata": {},
   "source": [
    "Q8. Declare a variable named price and assign the value 9.99 to it. What data type does this variable\n",
    "belong to?"
   ]
  },
  {
   "cell_type": "code",
   "execution_count": 30,
   "id": "763e8997-1c76-4862-abdf-8737747802b5",
   "metadata": {},
   "outputs": [
    {
     "data": {
      "text/plain": [
       "float"
      ]
     },
     "execution_count": 30,
     "metadata": {},
     "output_type": "execute_result"
    }
   ],
   "source": [
    "price=9.99\n",
    "type(price)"
   ]
  },
  {
   "cell_type": "markdown",
   "id": "0db09c65-3652-40d8-a455-a44aea987f78",
   "metadata": {},
   "source": [
    "Q9. Create a variable named name and assign your full name to it as a string. How would you print the\n",
    "value of this variable?"
   ]
  },
  {
   "cell_type": "code",
   "execution_count": 29,
   "id": "2da46d4e-59ed-4fce-81ba-1074a1eb6b50",
   "metadata": {},
   "outputs": [
    {
     "name": "stdout",
     "output_type": "stream",
     "text": [
      "Aamir Shabir\n"
     ]
    }
   ],
   "source": [
    "name=\"Aamir Shabir\"\n",
    "print(name)"
   ]
  },
  {
   "cell_type": "markdown",
   "id": "b6cc68c9-80b0-4737-8ca6-4bb5937f904c",
   "metadata": {},
   "source": [
    "Q10. Given the string \"Hello, World!\", extract the substring \"World\"."
   ]
  },
  {
   "cell_type": "code",
   "execution_count": 28,
   "id": "3c3c30b6-0dc8-4b5c-aff2-5d3d85967c1f",
   "metadata": {},
   "outputs": [
    {
     "data": {
      "text/plain": [
       "'World!'"
      ]
     },
     "execution_count": 28,
     "metadata": {},
     "output_type": "execute_result"
    }
   ],
   "source": [
    "str1=\"Hello, World!\"\n",
    "str1\n",
    "str1[7:len(str1)]"
   ]
  },
  {
   "cell_type": "markdown",
   "id": "fa8a8146-4b1d-489b-af7d-897727b70b27",
   "metadata": {},
   "source": [
    "Q11. Create a variable named \"is_student\" and assign it a boolean value indicating whether you are\n",
    "currently a student or not."
   ]
  },
  {
   "cell_type": "code",
   "execution_count": 34,
   "id": "d80af5c1-aee8-46f6-b76b-0810b9fedacd",
   "metadata": {},
   "outputs": [
    {
     "name": "stdout",
     "output_type": "stream",
     "text": [
      "True <class 'bool'>\n"
     ]
    }
   ],
   "source": [
    "is_student=True\n",
    "print(is_student,type(is_student))"
   ]
  },
  {
   "cell_type": "code",
   "execution_count": null,
   "id": "099fcf96-70e3-4503-864d-4be8bd6f0b30",
   "metadata": {},
   "outputs": [],
   "source": []
  }
 ],
 "metadata": {
  "kernelspec": {
   "display_name": "Python 3 (ipykernel)",
   "language": "python",
   "name": "python3"
  },
  "language_info": {
   "codemirror_mode": {
    "name": "ipython",
    "version": 3
   },
   "file_extension": ".py",
   "mimetype": "text/x-python",
   "name": "python",
   "nbconvert_exporter": "python",
   "pygments_lexer": "ipython3",
   "version": "3.10.8"
  }
 },
 "nbformat": 4,
 "nbformat_minor": 5
}
