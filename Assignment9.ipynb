{
 "cells": [
  {
   "cell_type": "markdown",
   "id": "1223d543-701b-4533-a593-86c506f72d33",
   "metadata": {},
   "source": [
    "Q1. What is multithreading in python? Why is it used? Name the module used to handle threads in python"
   ]
  },
  {
   "cell_type": "code",
   "execution_count": 2,
   "id": "1c057570-6300-446f-96fb-1b383f1c9b34",
   "metadata": {},
   "outputs": [
    {
     "data": {
      "text/plain": [
       "'\\nMultithreading is a process of achieving multitasking using multi threads.\\nThread is the smallest executable code which can be run independently.\\nIt is used to achieve multitasking or to improve effiecency of the code.\\nmultithreading is the name of module which is used to import while using multithreading\\n'"
      ]
     },
     "execution_count": 2,
     "metadata": {},
     "output_type": "execute_result"
    }
   ],
   "source": [
    "'''\n",
    "Multithreading is a process of achieving multitasking using multi threads.\n",
    "Thread is the smallest executable code which can be run independently.\n",
    "It is used to achieve multitasking or to improve effiecency of the code.\n",
    "multithreading is the name of module which is used to import while using multithreading\n",
    "'''"
   ]
  },
  {
   "cell_type": "markdown",
   "id": "8799cd36-594d-46cd-bf80-a122c0fbf66d",
   "metadata": {},
   "source": [
    "Q2. Why threading module used? Write the use of the following functions\n",
    "1. activeCount()\n",
    "2. currentThread()\n",
    "3. enumerate()"
   ]
  },
  {
   "cell_type": "code",
   "execution_count": 1,
   "id": "22f0412e-cdc5-4f73-b3b8-301bf700be59",
   "metadata": {},
   "outputs": [
    {
     "data": {
      "text/plain": [
       "\"\\nPython threading allows you to have different parts of your program run concurrently and can simplify your design.\\n\\n1.activeCount(): It is imported from the threading module, which is used to count the currently active or running threads.\\n    Count: This method returns the total currently active thread count.\\n\\n2.currentThread():current_thread() is an inbuilt method of the threading module, \\n    it is used to return the current Thread object, which corresponds to the caller's thread of control\\n\\n3.enumerate():threading. enumerate() returns a list of all Thread objects currently alive. The list includes daemonic threads, \\n            dummy thread objects created by current_thread(), and the main thread. \\n            It excludes terminated threads and threads that have not yet been started.\\n\\n\""
      ]
     },
     "execution_count": 1,
     "metadata": {},
     "output_type": "execute_result"
    }
   ],
   "source": [
    "'''\n",
    "Python threading allows you to have different parts of your program run concurrently and can simplify your design.\n",
    "\n",
    "1.activeCount(): It is imported from the threading module, which is used to count the currently active or running threads.\n",
    "    Count: This method returns the total currently active thread count.\n",
    "\n",
    "2.currentThread():current_thread() is an inbuilt method of the threading module, \n",
    "    it is used to return the current Thread object, which corresponds to the caller's thread of control\n",
    "\n",
    "3.enumerate():threading. enumerate() returns a list of all Thread objects currently alive. The list includes daemonic threads, \n",
    "            dummy thread objects created by current_thread(), and the main thread. \n",
    "            It excludes terminated threads and threads that have not yet been started.\n",
    "\n",
    "'''"
   ]
  },
  {
   "cell_type": "markdown",
   "id": "a21db85e-f480-4674-b097-979b7fa4d030",
   "metadata": {},
   "source": [
    "Q3.Explain the following functions\n",
    "1. run\n",
    "2. start\n",
    "3. join\n",
    "4. isAlive"
   ]
  },
  {
   "cell_type": "code",
   "execution_count": 1,
   "id": "6621e369-87e9-45d1-aa49-d24dcf2b5200",
   "metadata": {},
   "outputs": [
    {
     "data": {
      "text/plain": [
       "'\\n1.run():The standard run() method invokes the callable object passed to the object’s constructor as the target argument, \\n        if any, with positional and keyword arguments taken from the args and kwargs arguments, respectively.\\n2. start():Start the thread’s activity.\\n        It must be called at most once per thread object. It arranges for the object’s run() method to be invoked in a separate thread of control.\\n        This method will raise a RuntimeError if called more than once on the same thread object.      \\n3.join():Wait until the thread terminates. This blocks the calling thread until the thread whose join() method is called terminates – \\n        either normally or through an unhandled exception – or until the optional timeout occurs.   \\n4.isAlive():Return whether the thread is alive.\\n        This method returns True just before the run() method starts until just after the run() method terminates. \\n        The module function enumerate() returns a list of all alive threads.\\n'"
      ]
     },
     "execution_count": 1,
     "metadata": {},
     "output_type": "execute_result"
    }
   ],
   "source": [
    "'''\n",
    "1.run():The standard run() method invokes the callable object passed to the object’s constructor as the target argument, \n",
    "        if any, with positional and keyword arguments taken from the args and kwargs arguments, respectively.\n",
    "2. start():Start the thread’s activity.\n",
    "        It must be called at most once per thread object. It arranges for the object’s run() method to be invoked in a separate thread of control.\n",
    "        This method will raise a RuntimeError if called more than once on the same thread object.      \n",
    "3.join():Wait until the thread terminates. This blocks the calling thread until the thread whose join() method is called terminates – \n",
    "        either normally or through an unhandled exception – or until the optional timeout occurs.   \n",
    "4.isAlive():Return whether the thread is alive.\n",
    "        This method returns True just before the run() method starts until just after the run() method terminates. \n",
    "        The module function enumerate() returns a list of all alive threads.\n",
    "'''"
   ]
  },
  {
   "cell_type": "markdown",
   "id": "69640023-a516-4dd6-8e78-82668fddc14f",
   "metadata": {},
   "source": [
    "Q4. Write a python program to create two threads. Thread one must print the list of squares and thread\n",
    "two must print the list of cubes"
   ]
  },
  {
   "cell_type": "code",
   "execution_count": 3,
   "id": "cddb18f4-1983-4994-bece-7021d30ab0f9",
   "metadata": {},
   "outputs": [
    {
     "name": "stdout",
     "output_type": "stream",
     "text": [
      "Square: 100\n",
      "Cube: 1000\n",
      "Done!\n"
     ]
    }
   ],
   "source": [
    "# Python program to illustrate the concept of threading importing the threading module\n",
    "import threading\n",
    " \n",
    " \n",
    "def print_cube(num):\n",
    "    # function to print cube of given num\n",
    "    print(\"Cube: {}\" .format(num * num * num))\n",
    " \n",
    " \n",
    "def print_square(num):\n",
    "    # function to print square of given num\n",
    "    print(\"Square: {}\" .format(num * num))\n",
    " \n",
    " \n",
    "if __name__ ==\"__main__\":\n",
    "    # creating thread\n",
    "    t1 = threading.Thread(target=print_square, args=(10,))\n",
    "    t2 = threading.Thread(target=print_cube, args=(10,))\n",
    " \n",
    "    # starting thread 1\n",
    "    t1.start()\n",
    "    # starting thread 2\n",
    "    t2.start()\n",
    " \n",
    "    # wait until thread 1 is completely executed\n",
    "    t1.join()\n",
    "    # wait until thread 2 is completely executed\n",
    "    t2.join()\n",
    " \n",
    "    # both threads completely executed\n",
    "    print(\"Done!\")"
   ]
  },
  {
   "cell_type": "markdown",
   "id": "eafde06c-e1b2-41e1-85bf-8e8c2d23fff3",
   "metadata": {},
   "source": [
    "Q5. State advantages and disadvantages of multithreading"
   ]
  },
  {
   "cell_type": "markdown",
   "id": "bb163b03-b7ea-418f-94d0-1e8b44cfd875",
   "metadata": {},
   "source": [
    "Advantages\n",
    "\n",
    "    Thread switching does not require Kernel mode privileges.\n",
    "    User level thread can run on any operating system.\n",
    "    Scheduling can be application specific in the user level thread.\n",
    "    User level threads are fast to create and manage.\n",
    "Disadvantages\n",
    "\n",
    "    In a typical operating system, most system calls are blocking.\n",
    "    Multithreaded application cannot take advantage of multiprocessing.\n",
    "\n"
   ]
  },
  {
   "cell_type": "markdown",
   "id": "2d8bdde6-e0f4-47dc-9fe0-b91c1223e463",
   "metadata": {},
   "source": [
    "Q6. Explain deadlocks and race conditions."
   ]
  },
  {
   "cell_type": "code",
   "execution_count": null,
   "id": "a276394f-de07-4ca3-a67d-aad94728b314",
   "metadata": {},
   "outputs": [],
   "source": [
    "'''\n",
    "Race Condition: When two processes are competing with each other causing data corruption.\n",
    "Deadlock: When two processes are waiting for each other directly or indirectly, it is called deadlock.\n",
    "'''"
   ]
  }
 ],
 "metadata": {
  "kernelspec": {
   "display_name": "Python 3 (ipykernel)",
   "language": "python",
   "name": "python3"
  },
  "language_info": {
   "codemirror_mode": {
    "name": "ipython",
    "version": 3
   },
   "file_extension": ".py",
   "mimetype": "text/x-python",
   "name": "python",
   "nbconvert_exporter": "python",
   "pygments_lexer": "ipython3",
   "version": "3.10.8"
  }
 },
 "nbformat": 4,
 "nbformat_minor": 5
}
