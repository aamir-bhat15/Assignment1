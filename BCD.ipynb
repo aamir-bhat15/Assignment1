{
 "cells": [
  {
   "cell_type": "markdown",
   "id": "43a8dcb2-acc2-4e19-a143-01fe0ed5f541",
   "metadata": {},
   "source": [
    "<aside>\n",
    "💡 **Question 1**\n",
    "Given an integer array nums of 2n integers, group these integers into n pairs (a1, b1), (a2, b2),..., (an, bn) such that the sum of min(ai, bi) for all i is maximized. Return the maximized sum.\n",
    "\n",
    "**Example 1:**\n",
    "Input: nums = [1,4,3,2]\n",
    "Output: 4\n",
    "\n",
    "**Explanation:** All possible pairings (ignoring the ordering of elements) are:\n",
    "\n",
    "1. (1, 4), (2, 3) -> min(1, 4) + min(2, 3) = 1 + 2 = 3\n",
    "2. (1, 3), (2, 4) -> min(1, 3) + min(2, 4) = 1 + 2 = 3\n",
    "3. (1, 2), (3, 4) -> min(1, 2) + min(3, 4) = 1 + 3 = 4\n",
    "So the maximum possible sum is 4\n",
    "</aside>"
   ]
  },
  {
   "cell_type": "code",
   "execution_count": 1,
   "id": "6deca1c9-054e-4396-b005-8e133d51c55b",
   "metadata": {},
   "outputs": [
    {
     "name": "stdout",
     "output_type": "stream",
     "text": [
      "4\n"
     ]
    }
   ],
   "source": [
    "nums=[1,2,3,4]\n",
    "num=[0]*len(nums)\n",
    "for i in range(0,len(nums),2):\n",
    "    \n",
    "    num[i]=nums[i]\n",
    "\n",
    "print(sum(num))  "
   ]
  },
  {
   "cell_type": "markdown",
   "id": "d90451d7-909e-45ad-9473-699c7699559e",
   "metadata": {},
   "source": [
    "Question 2\n",
    "Alice has n candies, where the ith candy is of type candyType[i]. Alice noticed that she started to gain weight, so she visited a doctor. \n",
    "\n",
    "The doctor advised Alice to only eat n / 2 of the candies she has (n is always even). Alice likes her candies very much, and she wants to eat the maximum number of different types of candies while still following the doctor's advice. \n",
    "\n",
    "Given the integer array candyType of length n, return the maximum number of different types of candies she can eat if she only eats n / 2 of them.\n",
    "\n",
    "Example 1:\n",
    "Input: candyType = [1,1,2,2,3,3]\n",
    "Output: 3\n",
    "\n",
    "Explanation: Alice can only eat 6 / 2 = 3 candies. Since there are only 3 types, she can eat one of each type."
   ]
  },
  {
   "cell_type": "code",
   "execution_count": 5,
   "id": "50eb718b-b688-453f-b131-92e77f00ebca",
   "metadata": {},
   "outputs": [],
   "source": [
    "def distributeCandies():\n",
    "    candyType = [1,1,2,2,3,3]\n",
    "    return min(len(set(candyType)),len(candyType)//2)"
   ]
  },
  {
   "cell_type": "code",
   "execution_count": 6,
   "id": "a70ad692-e8c9-4b43-89cd-d3934c1c267a",
   "metadata": {},
   "outputs": [
    {
     "data": {
      "text/plain": [
       "3"
      ]
     },
     "execution_count": 6,
     "metadata": {},
     "output_type": "execute_result"
    }
   ],
   "source": [
    "distributeCandies()"
   ]
  },
  {
   "cell_type": "markdown",
   "id": "791f656c-fe79-4b29-b684-b4a4e1942f59",
   "metadata": {},
   "source": [
    "Question 3\n",
    "We define a harmonious array as an array where the difference between its maximum value\n",
    "and its minimum value is exactly 1.\n",
    "\n",
    "Given an integer array nums, return the length of its longest harmonious subsequence\n",
    "among all its possible subsequences.\n",
    "\n",
    "A subsequence of an array is a sequence that can be derived from the array by deleting some or no elements without changing the order of the remaining elements.\n",
    "\n",
    "Example 1:\n",
    "Input: nums = [1,3,2,2,5,2,3,7]\n",
    "Output: 5\n",
    "\n",
    "Explanation: The longest harmonious subsequence is [3,2,2,2,3]."
   ]
  },
  {
   "cell_type": "code",
   "execution_count": 7,
   "id": "0d708675-a680-42f5-a8be-defa09a80652",
   "metadata": {},
   "outputs": [],
   "source": [
    "def findLHS():\n",
    "        nums=[1,3,2,2,5,2,3,7]\n",
    "        letters={}\n",
    "        sum=0\n",
    "        for i in nums:\n",
    "            if i not in letters:\n",
    "                letters[i]=1\n",
    "            else:\n",
    "                letters[i]+=1\n",
    "        for i in letters:\n",
    "            if i+1 in letters.keys():\n",
    "                sum=max(sum, letters[i]+letters[i+1])\n",
    "        return sum"
   ]
  },
  {
   "cell_type": "code",
   "execution_count": 9,
   "id": "a4b5dfcc-78c1-4688-9602-ffbb7fadd83e",
   "metadata": {},
   "outputs": [
    {
     "data": {
      "text/plain": [
       "5"
      ]
     },
     "execution_count": 9,
     "metadata": {},
     "output_type": "execute_result"
    }
   ],
   "source": [
    "findLHS()"
   ]
  },
  {
   "cell_type": "markdown",
   "id": "2eb71017-6883-4a11-bb85-3898c9a90fd0",
   "metadata": {},
   "source": [
    "Question 4\n",
    "You have a long flowerbed in which some of the plots are planted, and some are not.\n",
    "However, flowers cannot be planted in adjacent plots.\n",
    "Given an integer array flowerbed containing 0's and 1's, where 0 means empty and 1 means not empty, and an integer n, return true if n new flowers can be planted in the flowerbed without violating the no-adjacent-flowers rule and false otherwise.\n",
    "\n",
    "Example 1:\n",
    "Input: flowerbed = [1,0,0,0,1], n = 1\n",
    "Output: true"
   ]
  },
  {
   "cell_type": "code",
   "execution_count": 5,
   "id": "7db41fa4-d1c2-4cbc-a72a-fc70716f548a",
   "metadata": {},
   "outputs": [],
   "source": [
    "\n",
    "def canPlaceFlowers():\n",
    "    flowerbed=[1,0,0,0,1]\n",
    "    n=1\n",
    "    if n == 0:\n",
    "        return True\n",
    "    for i in range(len(flowerbed)):\n",
    "        if flowerbed[i] == 0 and (i == 0 or flowerbed[i-1] == 0) and (i == len(flowerbed)-1 or flowerbed[i+1] == 0):\n",
    "            flowerbed[i] = 1\n",
    "            n -= 1\n",
    "            if n == 0:\n",
    "                return True\n",
    "    return False"
   ]
  },
  {
   "cell_type": "code",
   "execution_count": 6,
   "id": "7991a753-d500-4389-91e8-8c79211c7eeb",
   "metadata": {},
   "outputs": [
    {
     "data": {
      "text/plain": [
       "True"
      ]
     },
     "execution_count": 6,
     "metadata": {},
     "output_type": "execute_result"
    }
   ],
   "source": [
    "canPlaceFlowers()"
   ]
  },
  {
   "cell_type": "markdown",
   "id": "c19d54da-cd9a-40e3-872d-c788fdd75af5",
   "metadata": {},
   "source": [
    "Question 5\n",
    "Given an integer array nums, find three numbers whose product is maximum and return the maximum product.\n",
    "\n",
    "Example 1:\n",
    "Input: nums = [1,2,3]\n",
    "Output: 6"
   ]
  },
  {
   "cell_type": "code",
   "execution_count": 7,
   "id": "677f5588-6ba7-4d45-83f9-21141fef61f1",
   "metadata": {},
   "outputs": [],
   "source": [
    "def maximumProduct():\n",
    "    nums=[-1,-2,-3,-4]\n",
    "    nums=sorted(nums)\n",
    "    count=0\n",
    "    for i in nums:\n",
    "        if i<0:\n",
    "            count+=1\n",
    "    return max(nums[0]*nums[1]*nums[-1],nums[-1]*nums[-2]*nums[-3])"
   ]
  },
  {
   "cell_type": "code",
   "execution_count": 8,
   "id": "059a380e-b9e0-4ef8-954e-b934d325d920",
   "metadata": {},
   "outputs": [
    {
     "data": {
      "text/plain": [
       "-6"
      ]
     },
     "execution_count": 8,
     "metadata": {},
     "output_type": "execute_result"
    }
   ],
   "source": [
    "maximumProduct()"
   ]
  },
  {
   "cell_type": "markdown",
   "id": "aae5327e-7560-425a-ba9a-77ecabfae841",
   "metadata": {},
   "source": [
    "Question 6\n",
    "Given an array of integers nums which is sorted in ascending order, and an integer target,\n",
    "write a function to search target in nums. If target exists, then return its index. Otherwise,\n",
    "return -1.\n",
    "\n",
    "You must write an algorithm with O(log n) runtime complexity.\n",
    "\n",
    "Input: nums = [-1,0,3,5,9,12], target = 9\n",
    "Output: 4\n",
    "\n",
    "Explanation: 9 exists in nums and its index is 4"
   ]
  },
  {
   "cell_type": "code",
   "execution_count": 4,
   "id": "de4dab38-33f9-4278-8d73-e11a9c73a57d",
   "metadata": {},
   "outputs": [
    {
     "name": "stdout",
     "output_type": "stream",
     "text": [
      "2\n"
     ]
    }
   ],
   "source": [
    "nums=[-1,0,3,5,9,12]\n",
    "target=3\n",
    "if target not in nums:\n",
    "    print(-1)\n",
    "else:\n",
    "    \n",
    "    s,l=0,len(nums)\n",
    "    while s<l:\n",
    "        mid=(s+l)//2\n",
    "        if nums[mid]<target:\n",
    "            s=mid+1\n",
    "        else:\n",
    "            l=mid\n",
    "    print(s)"
   ]
  },
  {
   "cell_type": "markdown",
   "id": "98ebb158-7c4b-46f9-80f3-bffe4b091964",
   "metadata": {},
   "source": [
    "Question 7\n",
    "An array is monotonic if it is either monotone increasing or monotone decreasing.\n",
    "\n",
    "An array nums is monotone increasing if for all i <= j, nums[i] <= nums[j]. An array nums is\n",
    "monotone decreasing if for all i <= j, nums[i] >= nums[j].\n",
    "\n",
    "Given an integer array nums, return true if the given array is monotonic, or false otherwise.\n",
    "\n",
    "Example 1:\n",
    "Input: nums = [1,2,2,3]\n",
    "Output: true"
   ]
  },
  {
   "cell_type": "code",
   "execution_count": 7,
   "id": "bb334594-74af-45b9-873b-7b701d33b538",
   "metadata": {},
   "outputs": [],
   "source": [
    "def isMonotonic():\n",
    "    nums=[1,2,2,3]\n",
    "    first=nums[0]\n",
    "    icount=dcount=1\n",
    "    for i in range(1,len(nums)):\n",
    "        if nums[i]>first:\n",
    "            icount+=1\n",
    "            first=nums[i]\n",
    "        elif nums[i]<first:\n",
    "            dcount+=1\n",
    "            first=nums[i]\n",
    "        else:\n",
    "            icount+=1\n",
    "            dcount+=1\n",
    "            first=nums[i]\n",
    "    if icount==len(nums) or dcount==len(nums):\n",
    "        return True\n",
    "    else:\n",
    "        return False"
   ]
  },
  {
   "cell_type": "code",
   "execution_count": 8,
   "id": "ee0a235b-d019-4396-abba-a545e029b4c1",
   "metadata": {},
   "outputs": [
    {
     "data": {
      "text/plain": [
       "False"
      ]
     },
     "execution_count": 8,
     "metadata": {},
     "output_type": "execute_result"
    }
   ],
   "source": [
    "isMonotonic()"
   ]
  },
  {
   "cell_type": "markdown",
   "id": "fa87acd5-981c-4a0c-a7df-a53558768900",
   "metadata": {},
   "source": [
    "Question 8\n",
    "You are given an integer array nums and an integer k.\n",
    "\n",
    "In one operation, you can choose any index i where 0 <= i < nums.length and change nums[i] to nums[i] + x where x is an integer from the range [-k, k]. You can apply this operation at most once for each index i.\n",
    "\n",
    "The score of nums is the difference between the maximum and minimum elements in nums.\n",
    "\n",
    "Return the minimum score of nums after applying the mentioned operation at most once for each index in it.\n",
    "\n",
    "Example 1:\n",
    "Input: nums = [1], k = 0\n",
    "Output: 0\n",
    "\n",
    "Explanation: The score is max(nums) - min(nums) = 1 - 1 = 0."
   ]
  },
  {
   "cell_type": "code",
   "execution_count": null,
   "id": "41de0a40-000d-4ae5-88ec-a4c5bd805bec",
   "metadata": {},
   "outputs": [],
   "source": [
    "nums=sorted(nums)\n",
    "        if (nums[-1]-k)-(nums[0]+k)<0:\n",
    "            return 0\n",
    "        else:\n",
    "            return (nums[-1]-k)-(nums[0]+k)"
   ]
  }
 ],
 "metadata": {
  "kernelspec": {
   "display_name": "Python 3 (ipykernel)",
   "language": "python",
   "name": "python3"
  },
  "language_info": {
   "codemirror_mode": {
    "name": "ipython",
    "version": 3
   },
   "file_extension": ".py",
   "mimetype": "text/x-python",
   "name": "python",
   "nbconvert_exporter": "python",
   "pygments_lexer": "ipython3",
   "version": "3.10.8"
  }
 },
 "nbformat": 4,
 "nbformat_minor": 5
}
