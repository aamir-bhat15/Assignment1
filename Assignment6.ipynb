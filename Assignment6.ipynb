{
 "cells": [
  {
   "cell_type": "markdown",
   "id": "4d5c865b-3992-469d-bc20-4cee30a07d76",
   "metadata": {},
   "source": [
    "Q1, Create a vehicle class with an init method having instance variables as name_of_vehicle, max_speed\n",
    "and average_of_vehicle."
   ]
  },
  {
   "cell_type": "code",
   "execution_count": 154,
   "id": "5e502c23-ad26-47fa-912d-5de8763d65a9",
   "metadata": {},
   "outputs": [],
   "source": [
    "class vehicle:\n",
    "    def __init__(self,name_of_vehicle,max_speed,average_of_vehicle):\n",
    "        self.name_of_vehicle=name_of_vehicle\n",
    "        self.max_speed=max_speed\n",
    "        self.average_of_vehicle=average_of_vehicle\n",
    "    def details(self):\n",
    "        return self.name_of_vehicle, self.max_speed, self.average_of_vehicle\n",
    "    def capacity(self,capacity):\n",
    "        return self.name_of_vehicle,capacity"
   ]
  },
  {
   "cell_type": "code",
   "execution_count": 155,
   "id": "cbd923c2-6ae1-41c8-ab2d-ee73f196ad6b",
   "metadata": {},
   "outputs": [],
   "source": [
    "Veh1=vehicle('Car',90,45)"
   ]
  },
  {
   "cell_type": "code",
   "execution_count": 156,
   "id": "e63bcd14-0489-4ee3-b8c0-77bab297265e",
   "metadata": {},
   "outputs": [
    {
     "data": {
      "text/plain": [
       "('Car', 90, 45)"
      ]
     },
     "execution_count": 156,
     "metadata": {},
     "output_type": "execute_result"
    }
   ],
   "source": [
    "Veh1.details()"
   ]
  },
  {
   "cell_type": "markdown",
   "id": "7ba45128-a9ae-4fda-bf20-16452e1f50bb",
   "metadata": {},
   "source": [
    "Q2. Create a child class car from the vehicle class created in Que 1, which will inherit the vehicle class.\n",
    "Create a method named seating_capacity which takes capacity as an argument and returns the name of\n",
    "the vehicle and its seating capacity."
   ]
  },
  {
   "cell_type": "code",
   "execution_count": 157,
   "id": "48818809-ae3f-487b-9387-87514e59be03",
   "metadata": {},
   "outputs": [],
   "source": [
    "class car(vehicle):\n",
    "           \n",
    "    def seating_capacity(self,capacity=5):\n",
    "        return super().capacity(capacity=50)\n",
    "        "
   ]
  },
  {
   "cell_type": "code",
   "execution_count": 159,
   "id": "614015c2-7304-4b19-b379-bd596156fdfe",
   "metadata": {},
   "outputs": [
    {
     "data": {
      "text/plain": [
       "('Tata', 50)"
      ]
     },
     "execution_count": 159,
     "metadata": {},
     "output_type": "execute_result"
    }
   ],
   "source": [
    "Car1=car(\"Tata\",90,45)\n",
    "Car1.seating_capacity()"
   ]
  },
  {
   "cell_type": "markdown",
   "id": "d13f7649-4c0d-40e3-ac05-cbc7569301a6",
   "metadata": {},
   "source": [
    "Q3. What is multiple inheritance? Write a python code to demonstrate multiple inheritance."
   ]
  },
  {
   "cell_type": "code",
   "execution_count": 43,
   "id": "0ff3017c-cdef-48fd-aa94-bc5d0a2bcf74",
   "metadata": {},
   "outputs": [],
   "source": [
    "class A:\n",
    "    def detailsA(self):\n",
    "        print(\"This is class A\")"
   ]
  },
  {
   "cell_type": "code",
   "execution_count": 44,
   "id": "9c5bdc5c-0106-4d69-b105-3b08e67a11e7",
   "metadata": {},
   "outputs": [],
   "source": [
    "class B:\n",
    "    def detailsB(self):\n",
    "        print(\"This is class B\")"
   ]
  },
  {
   "cell_type": "code",
   "execution_count": 45,
   "id": "1134371b-17ff-4fbf-b2ef-b899935cf9de",
   "metadata": {},
   "outputs": [],
   "source": [
    "class C(A,B):\n",
    "    def detailsC(self):\n",
    "        print(\"This is class C\")"
   ]
  },
  {
   "cell_type": "code",
   "execution_count": 49,
   "id": "3b6c602e-13c5-47ca-b02a-e547f522daee",
   "metadata": {},
   "outputs": [
    {
     "name": "stdout",
     "output_type": "stream",
     "text": [
      "This is class A\n",
      "This is class B\n",
      "This is class C\n"
     ]
    }
   ],
   "source": [
    "C1=C()\n",
    "C1.detailsA()\n",
    "C1.detailsB()\n",
    "C1.detailsC()"
   ]
  },
  {
   "cell_type": "markdown",
   "id": "7f3393a7-ca64-4993-8412-13a9e64bb279",
   "metadata": {},
   "source": [
    "Q4. What are getter and setter in python? Create a class and create a getter and a setter method in this\n",
    "class."
   ]
  },
  {
   "cell_type": "code",
   "execution_count": 50,
   "id": "7dcfdbfa-24dc-434f-aad3-67d4f4c6bd11",
   "metadata": {},
   "outputs": [
    {
     "data": {
      "text/plain": [
       "'\\nGetter is used to access the private/protected instances\\nSetter is used to modifiy the private/protected instances\\n'"
      ]
     },
     "execution_count": 50,
     "metadata": {},
     "output_type": "execute_result"
    }
   ],
   "source": [
    "'''\n",
    "Getter is used to access the private/protected instances\n",
    "Setter is used to modifiy the private/protected instances\n",
    "'''"
   ]
  },
  {
   "cell_type": "code",
   "execution_count": 140,
   "id": "e6e10126-ac7c-439e-998f-dd240e805bbe",
   "metadata": {},
   "outputs": [],
   "source": [
    "class Student:\n",
    "    def __init__(self,name,pnumber):\n",
    "        self.__name=name\n",
    "        self.__pnumber=pnumber\n",
    "    @property\n",
    "    def get_details(self):\n",
    "        return self.__name,self.__pnumber\n",
    "    @get_details.setter\n",
    "    def set_details(self,name):\n",
    "        self.__name=name\n",
    "        "
   ]
  },
  {
   "cell_type": "code",
   "execution_count": 141,
   "id": "763812ea-cecc-4a20-bcf8-366e89dc79d9",
   "metadata": {},
   "outputs": [
    {
     "data": {
      "text/plain": [
       "'Aamir'"
      ]
     },
     "execution_count": 141,
     "metadata": {},
     "output_type": "execute_result"
    }
   ],
   "source": [
    "S1=Student(\"Aamir\",700611029)\n",
    "S1._Student__name\n"
   ]
  },
  {
   "cell_type": "code",
   "execution_count": 142,
   "id": "013606ef-2a44-413b-a6c7-5cea338c5693",
   "metadata": {},
   "outputs": [
    {
     "data": {
      "text/plain": [
       "('Aamir', 700611029)"
      ]
     },
     "execution_count": 142,
     "metadata": {},
     "output_type": "execute_result"
    }
   ],
   "source": [
    "S1.get_details"
   ]
  },
  {
   "cell_type": "code",
   "execution_count": 143,
   "id": "4502a3e5-dcf3-450b-a6c1-4554f9b2a52b",
   "metadata": {},
   "outputs": [],
   "source": [
    "S1.set_details='sahabir'"
   ]
  },
  {
   "cell_type": "code",
   "execution_count": 144,
   "id": "6f401502-57f1-444f-a301-5332921c0067",
   "metadata": {},
   "outputs": [
    {
     "data": {
      "text/plain": [
       "('sahabir', 700611029)"
      ]
     },
     "execution_count": 144,
     "metadata": {},
     "output_type": "execute_result"
    }
   ],
   "source": [
    "S1.get_details"
   ]
  },
  {
   "cell_type": "markdown",
   "id": "bd8f83a1-2df7-4446-b180-1c3289b540a4",
   "metadata": {},
   "source": [
    "Q5.What is method overriding in python? Write a python code to demonstrate method overriding."
   ]
  },
  {
   "cell_type": "code",
   "execution_count": 145,
   "id": "357179e1-52e8-4a1b-b3eb-7ad34e03b405",
   "metadata": {},
   "outputs": [
    {
     "data": {
      "text/plain": [
       "'Method overriding is an ability of any object-oriented programming language that allows a subclass or child class to provide a specific implementation of a method that is already provided by one of its parent classes\\n'"
      ]
     },
     "execution_count": 145,
     "metadata": {},
     "output_type": "execute_result"
    }
   ],
   "source": [
    "'''Method overriding is an ability of any object-oriented programming language that allows a subclass or child class to provide a specific implementation of a method that is already provided by one of its parent classes\n",
    "'''"
   ]
  },
  {
   "cell_type": "code",
   "execution_count": 149,
   "id": "2cc96649-2482-4912-a091-26cff9bd188a",
   "metadata": {},
   "outputs": [],
   "source": [
    "class Parent:\n",
    "    def __init__(self):\n",
    "        self.value=\"Inside Parent\"\n",
    "    def display(self):\n",
    "        return self.value"
   ]
  },
  {
   "cell_type": "code",
   "execution_count": 150,
   "id": "6f1599a5-4688-43c6-863f-fb9a8366a170",
   "metadata": {},
   "outputs": [],
   "source": [
    "class Child(Parent):\n",
    "    def __init__(self):\n",
    "        self.value=\"Inside Child\"\n",
    "    def display(self):\n",
    "        return self.value"
   ]
  },
  {
   "cell_type": "code",
   "execution_count": 151,
   "id": "021ebed4-6852-45a8-9d65-21dccd544992",
   "metadata": {},
   "outputs": [],
   "source": [
    "Child1=Child()"
   ]
  },
  {
   "cell_type": "code",
   "execution_count": 153,
   "id": "46806e24-a52b-4cb5-a759-ea66f3de0d3a",
   "metadata": {},
   "outputs": [
    {
     "data": {
      "text/plain": [
       "'Inside Child'"
      ]
     },
     "execution_count": 153,
     "metadata": {},
     "output_type": "execute_result"
    }
   ],
   "source": [
    "Child1.display()"
   ]
  },
  {
   "cell_type": "code",
   "execution_count": null,
   "id": "add11606-3e1c-424e-861b-6dcd3f04cf21",
   "metadata": {},
   "outputs": [],
   "source": []
  }
 ],
 "metadata": {
  "kernelspec": {
   "display_name": "Python 3 (ipykernel)",
   "language": "python",
   "name": "python3"
  },
  "language_info": {
   "codemirror_mode": {
    "name": "ipython",
    "version": 3
   },
   "file_extension": ".py",
   "mimetype": "text/x-python",
   "name": "python",
   "nbconvert_exporter": "python",
   "pygments_lexer": "ipython3",
   "version": "3.10.8"
  }
 },
 "nbformat": 4,
 "nbformat_minor": 5
}
