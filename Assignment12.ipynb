{
 "cells": [
  {
   "cell_type": "markdown",
   "id": "ebbd7df6-6b13-4c62-8f36-fee86b6947cc",
   "metadata": {},
   "source": [
    "Q1. What is Flask Framework? What are the advantages of Flask Framework?"
   ]
  },
  {
   "cell_type": "code",
   "execution_count": null,
   "id": "fd48380f-0beb-40c0-9cb9-c322a2351c8e",
   "metadata": {},
   "outputs": [],
   "source": [
    "Flask is a web framework for Python. It is a lightweight and flexible framework that is easy to learn and great for beginners. \n",
    "Flask is designed to help developers build web applications quickly and efficiently. \n",
    "\n",
    "Some of the advantages of Flask include:\n",
    "\n",
    "1. Minimalistic: Flask is a small framework that requires fewer lines of code to get started. It allows developers to create web applications quickly and efficiently.\n",
    "2. Highly customizable: Flask is highly customizable and flexible, which allows developers to mold the framework according to their needs. \n",
    "3. Modular: Flask is modular, which means that developers can use only the parts of the framework they need, making it lightweight and efficient.\n",
    "4. Easy to Learn: Flask is easy to learn and understand, which makes it an ideal choice for beginners who are just starting out in web development.\n",
    "5. Good Documentation: Flask has excellent documentation, making it easy for developers to understand and use its features. \n",
    "\n",
    "Overall, Flask is a great choice for developers who want a lightweight, flexible, and customizable web framework that's easy to learn and use."
   ]
  },
  {
   "cell_type": "markdown",
   "id": "786ed4fc-b84d-49cf-a055-a2f4ef5bae41",
   "metadata": {},
   "source": [
    "Q2. Create a simple Flask application to display ‘Hello World!!’. Attach the screenshot of the output in\n",
    "Jupyter Notebook."
   ]
  },
  {
   "cell_type": "markdown",
   "id": "45c532dc-e6f4-4ace-9f84-f3e317eec27b",
   "metadata": {},
   "source": [
    "from flask import Flask\n",
    "\n",
    "app = Flask(__name__)\n",
    "\n",
    "@app.route(\"/\")\n",
    "def hello_world():\n",
    "    return \"<h1>Hello, World!</h1>\"\n",
    "\n",
    "if __name__==\"__main__\":\n",
    "    app.run(host=\"0.0.0.0\")"
   ]
  },
  {
   "attachments": {
    "cc89eb56-4e0f-4198-9c66-f32e4cea7a08.png": {
     "image/png": "[encoded data removed]"
    }
   },
   "cell_type": "markdown",
   "id": "d04749ba-fecb-4a62-bb94-be562126ad2f",
   "metadata": {},
   "source": [
    "![image.png](attachment:cc89eb56-4e0f-4198-9c66-f32e4cea7a08.png)"
   ]
  },
  {
   "cell_type": "markdown",
   "id": "8ddeff50-2a3d-4837-9107-b38743d93674",
   "metadata": {},
   "source": [
    "Q3. What is App routing in Flask? Why do we use app routes?"
   ]
  },
  {
   "cell_type": "code",
   "execution_count": null,
   "id": "377547b7-d7ef-4f58-8742-929269d882df",
   "metadata": {},
   "outputs": [],
   "source": [
    "In Flask, app routing refers to mapping URLs to functions in a Flask application. Simply put, it is a way of defining which function should be executed for a particular URL.\n",
    "\n",
    "App routes are used in Flask to define the structure of a web application. This makes it easy to create separate pages for different sections of the application and route requests to the appropriate functions. \n",
    "App routes make it possible for Flask applications to handle user input and output, and allow developers to define what should happen when a user makes a request to a webpage.\n",
    "\n",
    "By using app routes, developers can easily create dynamic web applications that can handle multiple requests at once. \n",
    "They bring a clear structure to a Flask application and allow for easy navigation between pages and views.\n",
    "\n",
    "Overall, app routes are a critical component of Flask development, as they allow developers to create a clear structure for web applications and make it possible to handle user input and output effectively."
   ]
  },
  {
   "cell_type": "markdown",
   "id": "b1e93b7e-1fb1-453e-a23a-e51c0dd4b31b",
   "metadata": {},
   "source": [
    "Q4. Create a “/welcome” route to display the welcome message “Welcome to ABC Corporation” and a “/”\n",
    "route to show the following details:\n",
    "Company Name: ABC Corporation\n",
    "Location: India\n",
    "Contact Detail: 999-999-9999\n",
    "Attach the screenshot of the output in Jupyter Notebook."
   ]
  },
  {
   "cell_type": "markdown",
   "id": "2b6d47b3-beb6-4382-b802-f487579030b1",
   "metadata": {},
   "source": [
    "@app.route(\"/Welcome\")\n",
    "def wel_function():\n",
    "    \n",
    "    list1={\n",
    "        \"Company Name\": \"ABC Corporation\",\n",
    "        \"Location\": \"India\",\n",
    "        \"Contact Detail\": '999-999-9999'\n",
    "    }\n",
    "    \n",
    "    return \"Welcome to ABC Corporation {}\".format(list1)"
   ]
  },
  {
   "attachments": {
    "86d4f30c-dcd9-4bce-8851-d97919ea920e.png": {
     "image/png": "[encoded data removed]"
    }
   },
   "cell_type": "markdown",
   "id": "f4eaf607-8120-49b1-b63f-e8d1f644c6c7",
   "metadata": {},
   "source": [
    "![image.png](attachment:86d4f30c-dcd9-4bce-8851-d97919ea920e.png)\n"
   ]
  },
  {
   "cell_type": "markdown",
   "id": "9826d3de-dcec-4f85-8839-2ec6d96ed4b3",
   "metadata": {},
   "source": [
    "Q5. What function is used in Flask for URL Building? Write a Python code to demonstrate the working of the\n",
    "url_for() function."
   ]
  },
  {
   "cell_type": "code",
   "execution_count": null,
   "id": "f634334e-c69e-476e-bd1f-ffe5ca17d011",
   "metadata": {},
   "outputs": [],
   "source": [
    "In Flask, the `url_for()` function is used to dynamically build URLs for a specific function. \n",
    "The function takes the name of the endpoint and any arguments as input and generates a URL that corresponds to the endpoint.\n",
    "\n",
    "Here is an example code demonstrating the working of the `url_for()` function:\n",
    "\n",
    "```python\n",
    "from flask import Flask, url_for, redirect\n",
    "\n",
    "app = Flask(__name__)\n",
    "\n",
    "@app.route('/')\n",
    "def home():\n",
    "    return \"Welcome to the home page!\"\n",
    "\n",
    "@app.route('/about')\n",
    "def about():\n",
    "    return \"About us page content goes here!\"\n",
    "\n",
    "@app.route('/redirect-to-home')\n",
    "def redirect_to_home():\n",
    "    return redirect(url_for('home'))\n",
    "\n",
    "if __name__ == '__main__':\n",
    "    app.run(debug=True)\n",
    "```\n",
    "\n",
    "In this code, we have defined three app routes: `home()`, `about()`, and `redirect_to_home()`. \n",
    "\n",
    "The `redirect_to_home()` function returns a redirect response that uses the `url_for()` function to generate a URL for the `home()` function. \n",
    "\n",
    "When you run the application and navigate to the `/redirect-to-home` URL, Flask will generate a URL for the `home()` function and redirect the user to that URL.\n",
    "\n",
    "This is just a simple example of how the `url_for()` function can be used in Flask applications. \n",
    "Its power really shines when you have more complex routes with variables and need to generate URLs dynamically."
   ]
  }
 ],
 "metadata": {
  "kernelspec": {
   "display_name": "Python 3 (ipykernel)",
   "language": "python",
   "name": "python3"
  },
  "language_info": {
   "codemirror_mode": {
    "name": "ipython",
    "version": 3
   },
   "file_extension": ".py",
   "mimetype": "text/x-python",
   "name": "python",
   "nbconvert_exporter": "python",
   "pygments_lexer": "ipython3",
   "version": "3.10.8"
  }
 },
 "nbformat": 4,
 "nbformat_minor": 5
}
