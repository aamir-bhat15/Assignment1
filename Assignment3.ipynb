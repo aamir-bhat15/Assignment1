{
 "cells": [
  {
   "cell_type": "markdown",
   "id": "197abc3d-bffe-47ef-826a-17741760c663",
   "metadata": {},
   "source": [
    "Q1. Which keyword is used to create a function? Create a function to return a list of odd numbers in the\n",
    "range of 1 to 25."
   ]
  },
  {
   "cell_type": "code",
   "execution_count": 2,
   "id": "e2bceb4f-9e14-447d-95c4-befad3232731",
   "metadata": {},
   "outputs": [],
   "source": [
    "# def keyword is used t create a function "
   ]
  },
  {
   "cell_type": "code",
   "execution_count": 2,
   "id": "1145943e-0c94-4ffc-9466-76b6fc48db7a",
   "metadata": {},
   "outputs": [],
   "source": [
    "def Odd():\n",
    "    l=[]\n",
    "    for i in range(1,26):\n",
    "        if i%2!=0:\n",
    "            l.append(i)\n",
    "    return l"
   ]
  },
  {
   "cell_type": "code",
   "execution_count": 3,
   "id": "90bfd4c7-c978-4a1a-82ee-58d2bc7b6443",
   "metadata": {},
   "outputs": [
    {
     "data": {
      "text/plain": [
       "[1, 3, 5, 7, 9, 11, 13, 15, 17, 19, 21, 23, 25]"
      ]
     },
     "execution_count": 3,
     "metadata": {},
     "output_type": "execute_result"
    }
   ],
   "source": [
    "Odd()"
   ]
  },
  {
   "cell_type": "markdown",
   "id": "5d35b948-895d-4fe1-8892-03ae02acc59c",
   "metadata": {},
   "source": [
    "Q2. Why *args and **kwargs is used in some functions? Create a function each for *args and **kwargs to\n",
    "demonstrate their use."
   ]
  },
  {
   "cell_type": "code",
   "execution_count": null,
   "id": "764fa2cb-cdff-4050-b70b-fa65aed5242e",
   "metadata": {},
   "outputs": [],
   "source": [
    "'''* args can take n parameters at a time. We don't have to match the parameters of function with arguements pass in that function\n",
    "Similarly, we pass n paramaters of dictionary parameters at a time, we can use **kwargs\n",
    "\n",
    "'''"
   ]
  },
  {
   "cell_type": "code",
   "execution_count": 12,
   "id": "b3c37531-c713-44be-bc94-aaaf2f4aec81",
   "metadata": {},
   "outputs": [],
   "source": [
    "def name(*args):\n",
    "    return args"
   ]
  },
  {
   "cell_type": "code",
   "execution_count": 13,
   "id": "37ce7a9e-ac0c-4d05-babe-c6f62165816c",
   "metadata": {},
   "outputs": [
    {
     "data": {
      "text/plain": [
       "('Aamir',)"
      ]
     },
     "execution_count": 13,
     "metadata": {},
     "output_type": "execute_result"
    }
   ],
   "source": [
    "name(\"Aamir\")"
   ]
  },
  {
   "cell_type": "code",
   "execution_count": 15,
   "id": "4d01e86e-ba4d-4c0c-947c-f0deb4f0663a",
   "metadata": {},
   "outputs": [
    {
     "data": {
      "text/plain": [
       "('Aamir', 'Shabir', 'Bhat')"
      ]
     },
     "execution_count": 15,
     "metadata": {},
     "output_type": "execute_result"
    }
   ],
   "source": [
    "name(\"Aamir\",\"Shabir\",\"Bhat\")"
   ]
  },
  {
   "cell_type": "code",
   "execution_count": null,
   "id": "bc4c8da4-9a89-4abe-9135-9dd5a7324c98",
   "metadata": {},
   "outputs": [],
   "source": [
    "# No limit how many paramters we can pass"
   ]
  },
  {
   "cell_type": "code",
   "execution_count": 16,
   "id": "c85d4b93-8749-4029-89cd-7099edea92b6",
   "metadata": {},
   "outputs": [],
   "source": [
    "def nameofDic(**kwargs):\n",
    "    return kwargs"
   ]
  },
  {
   "cell_type": "code",
   "execution_count": 21,
   "id": "7462fcd0-ce7f-4a6d-9a44-c8994af0fc91",
   "metadata": {},
   "outputs": [
    {
     "data": {
      "text/plain": [
       "{}"
      ]
     },
     "execution_count": 21,
     "metadata": {},
     "output_type": "execute_result"
    }
   ],
   "source": [
    "nameofDic()"
   ]
  },
  {
   "cell_type": "code",
   "execution_count": 27,
   "id": "e4713f14-fe31-410a-8783-4a29feab3203",
   "metadata": {},
   "outputs": [
    {
     "ename": "TypeError",
     "evalue": "nameofDic() takes 0 positional arguments but 1 was given",
     "output_type": "error",
     "traceback": [
      "\u001b[0;31m---------------------------------------------------------------------------\u001b[0m",
      "\u001b[0;31mTypeError\u001b[0m                                 Traceback (most recent call last)",
      "Cell \u001b[0;32mIn[27], line 1\u001b[0m\n\u001b[0;32m----> 1\u001b[0m \u001b[43mnameofDic\u001b[49m\u001b[43m(\u001b[49m\u001b[43m{\u001b[49m\u001b[38;5;124;43m'\u001b[39;49m\u001b[38;5;124;43mfirst\u001b[39;49m\u001b[38;5;124;43m'\u001b[39;49m\u001b[43m:\u001b[49m\u001b[38;5;124;43m\"\u001b[39;49m\u001b[38;5;124;43mName\u001b[39;49m\u001b[38;5;124;43m\"\u001b[39;49m\u001b[43m}\u001b[49m\u001b[43m)\u001b[49m\n",
      "\u001b[0;31mTypeError\u001b[0m: nameofDic() takes 0 positional arguments but 1 was given"
     ]
    }
   ],
   "source": [
    "nameofDic({'first':\"Name\"})"
   ]
  },
  {
   "cell_type": "markdown",
   "id": "e73b59cb-5c78-4ae1-8b6d-137defaa729b",
   "metadata": {},
   "source": [
    "Q3. What is an iterator in python? Name the method used to initialise the iterator object and the method\n",
    "used for iteration. Use these methods to print the first five elements of the given list [2, 4, 6, 8, 10, 12, 14, 16,\n",
    "18, 20]."
   ]
  },
  {
   "cell_type": "markdown",
   "id": "a971397a-1414-41d4-9351-e5130c05960e",
   "metadata": {},
   "source": [
    "In Python, an iterator is an object that allows you to iterate over collections of data, such as lists, tuples, dictionaries, and sets. Python iterators implement the iterator design pattern, which allows you to traverse a container and access its elements\n",
    "iter is used to initialise the iterator object and \n",
    "next is used fr iteration\n"
   ]
  },
  {
   "cell_type": "code",
   "execution_count": 44,
   "id": "79fcc091-c3be-4487-a54a-69fdfcc8a69d",
   "metadata": {},
   "outputs": [
    {
     "data": {
      "text/plain": [
       "'\\nlistObject=[\"Red\",\"Orange\",\"Blue\"]\\nMyIterator= iter(ListObject)\\nprint(next(MyIterator))\\nprint(next(MyIterator))\\nprint(next(MyIterator))\\n\\n\\nthis is another method using loops\\nfor iter in list1:\\n    print(iter)\\n'"
      ]
     },
     "execution_count": 44,
     "metadata": {},
     "output_type": "execute_result"
    }
   ],
   "source": [
    "'''\n",
    "listObject=[\"Red\",\"Orange\",\"Blue\"]\n",
    "MyIterator= iter(ListObject)\n",
    "print(next(MyIterator))\n",
    "print(next(MyIterator))\n",
    "print(next(MyIterator))\n",
    "\n",
    "\n",
    "this is another method using loops\n",
    "list1=[\"My\",\"Name\",\"is\",\"Khan\",\"and\",\"I\",\"am\",\"not\",\"a\",\"terrorist\"]\n",
    "for iter in list1:\n",
    "    print(iter)\n",
    "'''\n",
    "   "
   ]
  },
  {
   "cell_type": "markdown",
   "id": "ecdd7889-9534-4e13-b6c7-383656025a32",
   "metadata": {},
   "source": [
    "List=[2,4,6,8,10,12,14,16,18,20]\n",
    "\n",
    "iterator= iter(List)\n",
    "\n",
    "print(next(iterator))\n",
    "\n",
    "print(next(iterator))\n",
    "\n",
    "print(next(iterator))\n",
    "\n",
    "print(next(iterator))\n",
    "\n",
    "print(next(iterator))"
   ]
  },
  {
   "cell_type": "markdown",
   "id": "5063649f-a979-42c0-92cb-08b884fcafae",
   "metadata": {},
   "source": [
    "Q4. What is a generator function in python? Why yield keyword is used? Give an example of a generator\n",
    "function."
   ]
  },
  {
   "cell_type": "code",
   "execution_count": 47,
   "id": "3b857390-af9e-4056-a203-eeb40402c6cd",
   "metadata": {},
   "outputs": [
    {
     "data": {
      "text/plain": [
       "'A Python generator function allows you to declare a function that behaves like an iterator, providing a faster and easier way to create iterators. They can be used on an abstract container of data to turn it into an iterable object like lists, dictionaries and strings.\\n    The yield keyword in Python controls the flow of a generator function. This is similar to a return statement used for returning values in Python\\n'"
      ]
     },
     "execution_count": 47,
     "metadata": {},
     "output_type": "execute_result"
    }
   ],
   "source": [
    "'''A Python generator function allows you to declare a function that behaves like an iterator, providing a faster and easier way to create iterators. They can be used on an abstract container of data to turn it into an iterable object like lists, dictionaries and strings.\n",
    "    The yield keyword in Python controls the flow of a generator function. This is similar to a return statement used for returning values in Python\n",
    "'''\n"
   ]
  },
  {
   "cell_type": "code",
   "execution_count": 48,
   "id": "ace81115-bcb2-4df1-92c8-7e0d4aa5f45d",
   "metadata": {},
   "outputs": [
    {
     "name": "stdout",
     "output_type": "stream",
     "text": [
      "3\n",
      "5\n",
      "7\n"
     ]
    }
   ],
   "source": [
    "def get_odds_generator():\n",
    "    n=1\n",
    "    \n",
    "    n+=2\n",
    "    yield n\n",
    "    \n",
    "    n+=2\n",
    "    yield n \n",
    "    \n",
    "    n+=2\n",
    "    yield n\n",
    "    \n",
    "numbers=get_odds_generator()\n",
    "print(next(numbers))\n",
    "print(next(numbers))\n",
    "print(next(numbers))"
   ]
  },
  {
   "cell_type": "markdown",
   "id": "49ca4aa4-0d70-4535-bc3a-bde667a4b421",
   "metadata": {},
   "source": [
    "Q5. Create a generator function for prime numbers less than 1000. Use the next() method to print the\n",
    "first 20 prime numbers."
   ]
  },
  {
   "cell_type": "code",
   "execution_count": 60,
   "id": "12e18792-03f3-4c70-8dbe-4e7337121036",
   "metadata": {},
   "outputs": [
    {
     "name": "stdin",
     "output_type": "stream",
     "text": [
      "Enter the range:  20\n"
     ]
    },
    {
     "name": "stdout",
     "output_type": "stream",
     "text": [
      "2 3 5 7 11 13 17 19 "
     ]
    }
   ],
   "source": [
    "def Prime_seq(num):\n",
    "    for i in range(2,num+1):\n",
    "        if prime(i) == True:\n",
    "            print(i,end = \" \")\n",
    "        else:\n",
    "            pass\n",
    "\n",
    "num = int(input(\"Enter the range: \"))\n",
    "prime = lambda num: all( num%x != 0 for x in range(2, int(num**.5)+1) )\n",
    "Prime_seq(num)\n",
    "\n",
    "        \n",
    "        "
   ]
  },
  {
   "cell_type": "code",
   "execution_count": null,
   "id": "2c2209fd-feed-4f6f-933e-91f3206d4aaf",
   "metadata": {},
   "outputs": [],
   "source": []
  }
 ],
 "metadata": {
  "kernelspec": {
   "display_name": "Python 3 (ipykernel)",
   "language": "python",
   "name": "python3"
  },
  "language_info": {
   "codemirror_mode": {
    "name": "ipython",
    "version": 3
   },
   "file_extension": ".py",
   "mimetype": "text/x-python",
   "name": "python",
   "nbconvert_exporter": "python",
   "pygments_lexer": "ipython3",
   "version": "3.10.8"
  }
 },
 "nbformat": 4,
 "nbformat_minor": 5
}
