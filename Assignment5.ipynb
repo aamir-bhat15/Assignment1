{
 "cells": [
  {
   "cell_type": "markdown",
   "id": "ca5efff9-de1a-475c-b70d-c6bd12da91c6",
   "metadata": {},
   "source": [
    "Q1. Explain Class and Object with respect to Object-Oriented Programming. Give a suitable example."
   ]
  },
  {
   "cell_type": "code",
   "execution_count": 5,
   "id": "642f562e-9026-4d26-bd3d-1a4d41f720a0",
   "metadata": {},
   "outputs": [],
   "source": [
    "'''\n",
    "A class is the blueprint of creating the object, like constructor. class keyword is used to create the class.\n",
    "Everything in python is object, including its properties and methods. \n",
    "\n",
    "'''\n",
    "class test:\n",
    "    def __init__(self,a,b):\n",
    "        self.a=a\n",
    "        self.b=b\n",
    "        print(self.a+self.b)"
   ]
  },
  {
   "cell_type": "code",
   "execution_count": 7,
   "id": "c3c57fb1-b923-47dd-ab70-ba6cc8d5c08b",
   "metadata": {},
   "outputs": [
    {
     "name": "stdout",
     "output_type": "stream",
     "text": [
      "9\n"
     ]
    }
   ],
   "source": [
    "T=test(4,5)  #this is object creation"
   ]
  },
  {
   "cell_type": "markdown",
   "id": "7fc9d2ef-fad8-4078-a265-63715d510fdb",
   "metadata": {},
   "source": [
    "Q2. Name the four pillars of OOPs."
   ]
  },
  {
   "cell_type": "code",
   "execution_count": null,
   "id": "6bab3beb-d452-47a9-b19f-2f72aea8eea9",
   "metadata": {},
   "outputs": [],
   "source": [
    "'''\n",
    "The four pillars of OOPs are as:\n",
    "1.Encapsulation:It is a process of wrapping data and the methods that work on data within one unit. This puts restrictions on accessing variables and methods directly and can prevent the accidental modification of data\n",
    "2.Abstraction: It is a process of handling complexity by hiding unnecessary information from the user.\n",
    "3.Inheritance:It allows us to define a class that inherits all the methods and properties from another class\n",
    "4.Polymorphism: It means \"many forms\",it refers to methods/functions/operators with the same name that can be executed on many objects or classes.\n",
    "'''"
   ]
  },
  {
   "cell_type": "raw",
   "id": "49bc717d-31d3-45e3-ba8a-c9049f0f5cce",
   "metadata": {},
   "source": [
    "Q3. Explain why the __init__() function is used. Give a suitable example."
   ]
  },
  {
   "cell_type": "code",
   "execution_count": 8,
   "id": "84c26538-b1f7-4c69-8c1a-8bf4b39b664e",
   "metadata": {},
   "outputs": [
    {
     "data": {
      "text/plain": [
       "'__init__() function acts as constructor to the class which is used to  initialize to the data members of the class when an object of the class is created\\n'"
      ]
     },
     "execution_count": 8,
     "metadata": {},
     "output_type": "execute_result"
    }
   ],
   "source": [
    "'''__init__() function acts as constructor to the class which is used to  initialize to the data members of the class when an object of the class is created\n",
    "'''\n"
   ]
  },
  {
   "cell_type": "code",
   "execution_count": 9,
   "id": "17612d1e-8e2b-4fb3-baf7-25e5679bb0cd",
   "metadata": {},
   "outputs": [],
   "source": [
    "class A:\n",
    "    def __init__(self, name, age):\n",
    "        self.name=name\n",
    "        self.age=age"
   ]
  },
  {
   "cell_type": "code",
   "execution_count": 19,
   "id": "c70cb20d-b072-467f-91d1-bc7604349a14",
   "metadata": {},
   "outputs": [],
   "source": [
    "A1=A(\"Aamir\",25)\n"
   ]
  },
  {
   "cell_type": "code",
   "execution_count": 15,
   "id": "4b8b17ad-2b79-4fbf-b507-fbbd40a3de6f",
   "metadata": {},
   "outputs": [
    {
     "data": {
      "text/plain": [
       "'Aamir'"
      ]
     },
     "execution_count": 15,
     "metadata": {},
     "output_type": "execute_result"
    }
   ],
   "source": [
    "A1.name\n"
   ]
  },
  {
   "cell_type": "code",
   "execution_count": 16,
   "id": "e793b445-523b-4703-9e5f-ded42ecc040b",
   "metadata": {},
   "outputs": [
    {
     "data": {
      "text/plain": [
       "25"
      ]
     },
     "execution_count": 16,
     "metadata": {},
     "output_type": "execute_result"
    }
   ],
   "source": [
    "A1.age"
   ]
  },
  {
   "cell_type": "markdown",
   "id": "19cbce68-60c7-455b-b45b-ea628f9637d9",
   "metadata": {},
   "source": [
    "Q4. Why self is used in OOPs?"
   ]
  },
  {
   "cell_type": "code",
   "execution_count": 20,
   "id": "302f065e-837c-4066-83b8-d2dc25bf74b0",
   "metadata": {},
   "outputs": [],
   "source": [
    "#Python uses the self parameter to refer to instance attributes and methods of the class.\n",
    "#Self represents the instance of class.This keyword allows to access the variables, attributes and methods of a defined class"
   ]
  },
  {
   "cell_type": "markdown",
   "id": "dfcc0d4a-db72-44b3-b7b4-fc67452659e8",
   "metadata": {},
   "source": [
    "Q5. What is inheritance? Give an example for each type of inheritance."
   ]
  },
  {
   "cell_type": "markdown",
   "id": "8ec41db6-bb5a-4df5-aea3-bc4bd38cbb30",
   "metadata": {},
   "source": [
    "It allows us to define a class that inherits all the methods and properties from another class\n"
   ]
  },
  {
   "cell_type": "markdown",
   "id": "4f826839-374c-4d58-b7b5-c0261582f0b2",
   "metadata": {},
   "source": [
    "Single Inheritance: "
   ]
  },
  {
   "cell_type": "code",
   "execution_count": 25,
   "id": "77da1e32-85d3-4c6c-9c75-d5f882c171d1",
   "metadata": {},
   "outputs": [],
   "source": [
    "class Person:\n",
    "    def __init__(self,name,age):\n",
    "        self.name=name\n",
    "        self.age=age\n",
    "    def details(self):\n",
    "        return self.name,self.age"
   ]
  },
  {
   "cell_type": "code",
   "execution_count": 26,
   "id": "15595316-994f-4abf-b9a1-a3384793a4cd",
   "metadata": {},
   "outputs": [],
   "source": [
    "class PersonA:\n",
    "    def detailsA(self):\n",
    "        return \"This is details of Person A\""
   ]
  },
  {
   "cell_type": "code",
   "execution_count": 28,
   "id": "cff0ccb0-fd3b-4ed7-afa8-989e00f5353b",
   "metadata": {},
   "outputs": [],
   "source": [
    "Obj=Person(\"Aamir\",25)"
   ]
  },
  {
   "cell_type": "code",
   "execution_count": 30,
   "id": "bd7a7762-a682-4d98-8b73-e2adfbfe64aa",
   "metadata": {},
   "outputs": [],
   "source": [
    "ObjA=PersonA()"
   ]
  },
  {
   "cell_type": "code",
   "execution_count": 32,
   "id": "b1475efb-eb06-4a6a-8d7b-bf4634142fcc",
   "metadata": {},
   "outputs": [
    {
     "data": {
      "text/plain": [
       "('Aamir', 25)"
      ]
     },
     "execution_count": 32,
     "metadata": {},
     "output_type": "execute_result"
    }
   ],
   "source": [
    "Obj.details()"
   ]
  },
  {
   "cell_type": "code",
   "execution_count": 33,
   "id": "7907f692-e03b-44b8-a4f3-241e862a5f26",
   "metadata": {},
   "outputs": [
    {
     "data": {
      "text/plain": [
       "'This is details of Person A'"
      ]
     },
     "execution_count": 33,
     "metadata": {},
     "output_type": "execute_result"
    }
   ],
   "source": [
    "ObjA.detailsA()"
   ]
  },
  {
   "cell_type": "code",
   "execution_count": 61,
   "id": "467cd517-d267-4360-9aa6-96c06f79a8fc",
   "metadata": {},
   "outputs": [
    {
     "name": "stdout",
     "output_type": "stream",
     "text": [
      "C\n"
     ]
    }
   ],
   "source": [
    "class C(Person):\n",
    "    print(\"C\")\n",
    "    "
   ]
  },
  {
   "cell_type": "code",
   "execution_count": 37,
   "id": "8f728ddb-e824-4678-93cf-c407dc4fccae",
   "metadata": {},
   "outputs": [],
   "source": [
    "C1=C(\"same\",25)"
   ]
  },
  {
   "cell_type": "code",
   "execution_count": 62,
   "id": "6913dfc2-36bc-4dd8-a891-23b3818f11ff",
   "metadata": {},
   "outputs": [
    {
     "data": {
      "text/plain": [
       "('same', 25)"
      ]
     },
     "execution_count": 62,
     "metadata": {},
     "output_type": "execute_result"
    }
   ],
   "source": [
    "C1.details()"
   ]
  },
  {
   "cell_type": "markdown",
   "id": "39b8db6b-dd85-4e21-bd23-6e7517919f31",
   "metadata": {},
   "source": [
    "Multiple Inheritance"
   ]
  },
  {
   "cell_type": "code",
   "execution_count": 63,
   "id": "7c987a3d-80fd-49cd-99cf-2c0dce3c1cae",
   "metadata": {},
   "outputs": [
    {
     "name": "stdout",
     "output_type": "stream",
     "text": [
      "D\n"
     ]
    }
   ],
   "source": [
    "class D(Person,PersonA):\n",
    "    print(\"D\")"
   ]
  },
  {
   "cell_type": "code",
   "execution_count": 64,
   "id": "0786c18f-3ef5-42ba-953f-80b3eec18749",
   "metadata": {},
   "outputs": [],
   "source": [
    "D1=D(\"Third\",25)"
   ]
  },
  {
   "cell_type": "code",
   "execution_count": 65,
   "id": "111753e1-7f21-41c9-a300-953b36ed34bf",
   "metadata": {},
   "outputs": [
    {
     "data": {
      "text/plain": [
       "('Third', 25)"
      ]
     },
     "execution_count": 65,
     "metadata": {},
     "output_type": "execute_result"
    }
   ],
   "source": [
    "D1.details()"
   ]
  },
  {
   "cell_type": "code",
   "execution_count": 66,
   "id": "b4770f3e-0f52-4250-850d-db58ccfe2068",
   "metadata": {},
   "outputs": [
    {
     "data": {
      "text/plain": [
       "'This is details of Person A'"
      ]
     },
     "execution_count": 66,
     "metadata": {},
     "output_type": "execute_result"
    }
   ],
   "source": [
    "D1.detailsA()"
   ]
  },
  {
   "cell_type": "markdown",
   "id": "f1a47c67-d082-4bd8-9b98-af3470de168a",
   "metadata": {},
   "source": [
    "Multilevel Inheritance "
   ]
  },
  {
   "cell_type": "code",
   "execution_count": 68,
   "id": "9f1e9447-478d-4c6b-93cf-73eebd5de59f",
   "metadata": {},
   "outputs": [
    {
     "name": "stdout",
     "output_type": "stream",
     "text": [
      "E\n"
     ]
    }
   ],
   "source": [
    "class E(C):\n",
    "    print(\"E\")"
   ]
  },
  {
   "cell_type": "code",
   "execution_count": 69,
   "id": "0da4bdde-809b-4d4f-a878-97b61c83936c",
   "metadata": {},
   "outputs": [],
   "source": [
    "E1=E(\"Forth\",25)"
   ]
  },
  {
   "cell_type": "code",
   "execution_count": 70,
   "id": "82971e09-1600-4778-8177-f5c2a728f478",
   "metadata": {},
   "outputs": [
    {
     "data": {
      "text/plain": [
       "('Forth', 25)"
      ]
     },
     "execution_count": 70,
     "metadata": {},
     "output_type": "execute_result"
    }
   ],
   "source": [
    "E1.details()"
   ]
  },
  {
   "cell_type": "markdown",
   "id": "2f69b764-d1ce-41d7-b01b-a42443ad7015",
   "metadata": {},
   "source": [
    "Hierarchical Inheritance\n",
    "\n",
    "When more than one derived class are created from a single base this type of inheritance is called hierarchical inheritance"
   ]
  },
  {
   "cell_type": "code",
   "execution_count": 72,
   "id": "e3a6ba14-42e1-4487-9bea-f258c358a590",
   "metadata": {},
   "outputs": [
    {
     "name": "stdout",
     "output_type": "stream",
     "text": [
      "F\n"
     ]
    }
   ],
   "source": [
    "class F(Person):\n",
    "    print(\"F\")"
   ]
  },
  {
   "cell_type": "code",
   "execution_count": 73,
   "id": "3fa223d8-d4d2-4649-9d1b-9fd334f3e7a3",
   "metadata": {},
   "outputs": [
    {
     "name": "stdout",
     "output_type": "stream",
     "text": [
      "G\n"
     ]
    }
   ],
   "source": [
    "class G(Person):\n",
    "    print(\"G\")"
   ]
  },
  {
   "cell_type": "code",
   "execution_count": 74,
   "id": "378a343f-60a1-41d7-a31f-d0e7827c175a",
   "metadata": {},
   "outputs": [],
   "source": [
    "F1=F(\"fifth\",25)\n",
    "G1=G(\"Sixth\",25)"
   ]
  },
  {
   "cell_type": "code",
   "execution_count": 75,
   "id": "cc309ca5-7a85-4dff-9c91-d148ceef0dab",
   "metadata": {},
   "outputs": [
    {
     "data": {
      "text/plain": [
       "('fifth', 25)"
      ]
     },
     "execution_count": 75,
     "metadata": {},
     "output_type": "execute_result"
    }
   ],
   "source": [
    "F1.details()"
   ]
  },
  {
   "cell_type": "code",
   "execution_count": 76,
   "id": "9055e91d-f3c2-4332-8216-3cf95c148d61",
   "metadata": {},
   "outputs": [
    {
     "data": {
      "text/plain": [
       "('Sixth', 25)"
      ]
     },
     "execution_count": 76,
     "metadata": {},
     "output_type": "execute_result"
    }
   ],
   "source": [
    "G1.details()"
   ]
  },
  {
   "cell_type": "markdown",
   "id": "85d977bf-e13a-424d-b9f7-59eb829de7aa",
   "metadata": {},
   "source": [
    "Hybrid Inheritance\n",
    "\n",
    "Inheritance consisting of multiple types of inheritance is called hybrid inheritance."
   ]
  },
  {
   "cell_type": "code",
   "execution_count": 77,
   "id": "03802051-d873-4ef7-9c39-9f1ba551104f",
   "metadata": {},
   "outputs": [
    {
     "name": "stdout",
     "output_type": "stream",
     "text": [
      "H\n"
     ]
    }
   ],
   "source": [
    "class H(C,Person):\n",
    "    print(\"H\")"
   ]
  },
  {
   "cell_type": "code",
   "execution_count": 78,
   "id": "1ea6f04a-d3c9-40c5-aec3-d08091b8b5fb",
   "metadata": {},
   "outputs": [],
   "source": [
    "H1=H(\"sevth \",25)"
   ]
  },
  {
   "cell_type": "code",
   "execution_count": 79,
   "id": "faf0dfcf-e9d0-43a5-914c-6ff1bfceefce",
   "metadata": {},
   "outputs": [
    {
     "data": {
      "text/plain": [
       "('sevth ', 25)"
      ]
     },
     "execution_count": 79,
     "metadata": {},
     "output_type": "execute_result"
    }
   ],
   "source": [
    "H1.details()"
   ]
  },
  {
   "cell_type": "code",
   "execution_count": 80,
   "id": "2fb6bafc-3724-4646-b0b9-2b97e5e5ce31",
   "metadata": {},
   "outputs": [
    {
     "ename": "AttributeError",
     "evalue": "'H' object has no attribute 'C1'",
     "output_type": "error",
     "traceback": [
      "\u001b[0;31m---------------------------------------------------------------------------\u001b[0m",
      "\u001b[0;31mAttributeError\u001b[0m                            Traceback (most recent call last)",
      "Cell \u001b[0;32mIn[80], line 1\u001b[0m\n\u001b[0;32m----> 1\u001b[0m \u001b[43mH1\u001b[49m\u001b[38;5;241;43m.\u001b[39;49m\u001b[43mC1\u001b[49m()\n",
      "\u001b[0;31mAttributeError\u001b[0m: 'H' object has no attribute 'C1'"
     ]
    }
   ],
   "source": [
    "H1.C1()"
   ]
  },
  {
   "cell_type": "code",
   "execution_count": null,
   "id": "a521b97f-870e-4c8b-85f9-f5f3fb8324e9",
   "metadata": {},
   "outputs": [],
   "source": []
  }
 ],
 "metadata": {
  "kernelspec": {
   "display_name": "Python 3 (ipykernel)",
   "language": "python",
   "name": "python3"
  },
  "language_info": {
   "codemirror_mode": {
    "name": "ipython",
    "version": 3
   },
   "file_extension": ".py",
   "mimetype": "text/x-python",
   "name": "python",
   "nbconvert_exporter": "python",
   "pygments_lexer": "ipython3",
   "version": "3.10.8"
  }
 },
 "nbformat": 4,
 "nbformat_minor": 5
}
