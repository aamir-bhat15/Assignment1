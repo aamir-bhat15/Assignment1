{
 "cells": [
  {
   "cell_type": "markdown",
   "id": "cbc7b208-44b2-4350-93be-a24d4c3f36b0",
   "metadata": {},
   "source": [
    "Q1. What is multiprocessing in python? Why is it useful?"
   ]
  },
  {
   "cell_type": "code",
   "execution_count": null,
   "id": "97b64b95-cf0f-43c9-85c3-beaf97986c32",
   "metadata": {},
   "outputs": [],
   "source": [
    "'''\n",
    "Multiprocessing in Python is a built-in package that allows the system to run multiple processes simultaneously. \n",
    "It will enable the breaking of applications into smaller threads that can run independently.\n",
    "Multiprocessing is useful for CPU-bound processes, such as computationally heavy tasks since it will benefit from having multiple processors; \n",
    "similar to how multicore computers work faster than computers with a single core.\n",
    "'''"
   ]
  },
  {
   "cell_type": "markdown",
   "id": "787406cf-f1ef-44f4-b79e-c2c35296588f",
   "metadata": {},
   "source": [
    "Q2. What are the differences between multiprocessing and multithreading?"
   ]
  },
  {
   "cell_type": "code",
   "execution_count": null,
   "id": "8ea2212d-67da-49fd-96d0-80f68bf68551",
   "metadata": {},
   "outputs": [],
   "source": [
    "'''\n",
    "multithreading refers to the ability of a processor to execute multiple threads concurrently, where each thread runs a process. \n",
    "Whereas multiprocessing refers to the ability of a system to run multiple processors in parallel, where each processor can run one or more threads.\n",
    "'''"
   ]
  },
  {
   "cell_type": "markdown",
   "id": "3baf8404-bcbf-4ecf-b108-d50637fcaed9",
   "metadata": {},
   "source": [
    "Q3. Write a python code to create a process using the multiprocessing module."
   ]
  },
  {
   "cell_type": "code",
   "execution_count": 4,
   "id": "da6fc216-d416-4396-b8bf-ab9f468cca72",
   "metadata": {},
   "outputs": [
    {
     "name": "stdout",
     "output_type": "stream",
     "text": [
      "Task 1 done (slept for 2s)! Process ID: 1825\n",
      "Task 2 done (slept for 2s)! Process ID: 1826\n",
      "Time elapsed: 2.02s\n"
     ]
    }
   ],
   "source": [
    "import multiprocessing\n",
    "import os\n",
    "import time\n",
    "\n",
    "\n",
    "def task_sleep(sleep_duration, task_number):\n",
    "    time.sleep(sleep_duration)\n",
    "    print(f\"Task {task_number} done (slept for {sleep_duration}s)! \" f\"Process ID: {os.getpid()}\")\n",
    "\n",
    "\n",
    "if __name__ == \"__main__\":\n",
    "    time_start = time.time()\n",
    "\n",
    "    # Create process\n",
    "    p1 = multiprocessing.Process(target=task_sleep, args=(2, 1))\n",
    "    p2 = multiprocessing.Process(target=task_sleep, args=(2, 2))\n",
    "\n",
    "    # Start task execution\n",
    "    p1.start()\n",
    "    p2.start()\n",
    "\n",
    "    # Wait for process to complete execution\n",
    "    p1.join()\n",
    "    p2.join()\n",
    "\n",
    "    time_end = time.time()\n",
    "    print(f\"Time elapsed: {round(time_end - time_start, 2)}s\")"
   ]
  },
  {
   "cell_type": "markdown",
   "id": "477587bc-41a1-437c-b361-52efd193cd6c",
   "metadata": {},
   "source": [
    "Q4. What is a multiprocessing pool in python? Why is it used?"
   ]
  },
  {
   "cell_type": "code",
   "execution_count": null,
   "id": "07ced5e6-675d-4847-89d7-e933e84b8c5d",
   "metadata": {},
   "outputs": [],
   "source": [
    "'''\n",
    "Pool method allows users to define the number of workers and distribute all processes to available processors in a First-In-First-Out schedule, \n",
    "handling process scheduling automatically. \n",
    "The pool method is used to break a function into multiple small parts using map or starmap\n",
    "running the same function with different input arguments. Whereas the Process method is used to run different functions.\n",
    "'''"
   ]
  },
  {
   "cell_type": "markdown",
   "id": "af65c315-a731-40cb-87ab-f007cb86d758",
   "metadata": {},
   "source": [
    "Q5. How can we create a pool of worker processes in python using the multiprocessing module?"
   ]
  },
  {
   "cell_type": "code",
   "execution_count": 4,
   "id": "2fb975f7-25a9-4a6f-bb80-b1b578815d8d",
   "metadata": {},
   "outputs": [
    {
     "name": "stdout",
     "output_type": "stream",
     "text": [
      "Task 1 done (slept for 2s)! Process ID: 2495Task 1 done (slept for 2s)! Process ID: 2496Task 1 done (slept for 2s)! Process ID: 2497Task 1 done (slept for 2s)! Process ID: 2499Task 1 done (slept for 2s)! Process ID: 2504Task 1 done (slept for 2s)! Process ID: 2501Task 1 done (slept for 2s)! Process ID: 2498Task 1 done (slept for 2s)! Process ID: 2503Task 1 done (slept for 2s)! Process ID: 2502Task 1 done (slept for 2s)! Process ID: 2500         /n /n/n/n/n/n/n/n/n\n",
      "/n\n",
      "\n",
      "\n",
      "Time elapsed: 2.25s\n",
      "\n",
      "\n",
      "\n",
      "\n",
      "\n",
      "\n"
     ]
    }
   ],
   "source": [
    "import multiprocessing\n",
    "import os\n",
    "import time\n",
    "\n",
    "\n",
    "def task_sleep(sleep_duration, task_number):\n",
    "    time.sleep(sleep_duration)\n",
    "    print(f\"Task {task_number} done (slept for {sleep_duration}s)! \" f\"Process ID: {os.getpid()}\")\n",
    "\n",
    "\n",
    "if __name__ == \"__main__\":\n",
    "    time_start = time.time()\n",
    "\n",
    "    # Create pool of workers\n",
    "    num_cpu = multiprocessing.cpu_count() - 1\n",
    "    pool = multiprocessing.Pool(processes=num_cpu)\n",
    "\n",
    "    # Map pool of workers to process\n",
    "    pool.starmap(func=task_sleep, iterable=[(2, 1)] * 10)\n",
    "\n",
    "    # Wait until workers complete execution\n",
    "    pool.close()\n",
    "\n",
    "    time_end = time.time()\n",
    "    print(f\"Time elapsed: {round(time_end - time_start, 2)}s\")"
   ]
  },
  {
   "cell_type": "markdown",
   "id": "bb410a38-b539-4c4d-9746-7297594c2eb6",
   "metadata": {},
   "source": [
    "Q6. Write a python program to create 4 processes, each process should print a different number using the\n",
    "multiprocessing module in python."
   ]
  },
  {
   "cell_type": "code",
   "execution_count": 5,
   "id": "b4f78b94-2deb-4fc6-a90c-69e021999a14",
   "metadata": {},
   "outputs": [
    {
     "name": "stdout",
     "output_type": "stream",
     "text": [
      "ID of main process: 2272\n",
      "ID of process running worker1: 2731\n",
      "ID of process running worker2: 2734\n",
      "ID of process p1: 2731\n",
      "ID of process p2: 2734\n",
      "Both processes finished execution!\n",
      "Process p1 is alive: False\n",
      "Process p2 is alive: False\n"
     ]
    }
   ],
   "source": [
    "import multiprocessing\n",
    "import os\n",
    "  \n",
    "def worker1():\n",
    "    # printing process id\n",
    "    print(\"ID of process running worker1: {}\".format(os.getpid()))\n",
    "  \n",
    "if __name__ == \"__main__\":\n",
    "    # printing main program process id\n",
    "    print(\"ID of main process: {}\".format(os.getpid()))\n",
    "  \n",
    "    # creating processes\n",
    "    p1 = multiprocessing.Process(target=worker1)\n",
    "    p2 = multiprocessing.Process(target=worker1)\n",
    "    p3 = multiprocessing.Process(target=worker1)\n",
    "    p4 = multiprocessing.Process(target=worker1)\n",
    "  \n",
    "    # starting processes\n",
    "    p1.start()\n",
    "    p2.start()\n",
    "    p3.start()\n",
    "    p4.start()\n",
    "  \n",
    "    # process IDs\n",
    "    print(\"ID of process p1: {}\".format(p1.pid))\n",
    "    print(\"ID of process p2: {}\".format(p2.pid))\n",
    "    print(\"ID of process p3: {}\".format(p3.pid))\n",
    "    print(\"ID of process p4: {}\".format(p4.pid))\n",
    "  \n",
    "    # wait until processes are finished\n",
    "    p1.join()\n",
    "    p2.join()\n",
    "    p3.join()\n",
    "    p4.join()\n",
    "  \n",
    "    # both processes finished\n",
    "    print(\"Both processes finished execution!\")\n",
    "  \n",
    "    # check if processes are alive\n",
    "    print(\"Process p1 is alive: {}\".format(p1.is_alive()))\n",
    "    print(\"Process p2 is alive: {}\".format(p2.is_alive()))\n",
    "    print(\"Process p1 is alive: {}\".format(p3.is_alive()))\n",
    "    print(\"Process p2 is alive: {}\".format(p4.is_alive()))"
   ]
  },
  {
   "cell_type": "code",
   "execution_count": null,
   "id": "9ca05245-5f2f-41d8-8f25-71fc6e166db8",
   "metadata": {},
   "outputs": [],
   "source": []
  }
 ],
 "metadata": {
  "kernelspec": {
   "display_name": "Python 3 (ipykernel)",
   "language": "python",
   "name": "python3"
  },
  "language_info": {
   "codemirror_mode": {
    "name": "ipython",
    "version": 3
   },
   "file_extension": ".py",
   "mimetype": "text/x-python",
   "name": "python",
   "nbconvert_exporter": "python",
   "pygments_lexer": "ipython3",
   "version": "3.10.8"
  }
 },
 "nbformat": 4,
 "nbformat_minor": 5
}
