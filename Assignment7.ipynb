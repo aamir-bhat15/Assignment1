{
 "cells": [
  {
   "cell_type": "markdown",
   "id": "51d12f7a-7d5a-4355-b1df-b0f688c8c112",
   "metadata": {},
   "source": [
    "Q1. What is\n",
    "an Exception in python? Write the difference between Exceptions\n",
    "and syntax errors"
   ]
  },
  {
   "cell_type": "code",
   "execution_count": 4,
   "id": "7a54df7f-011d-4195-af21-b7a686afed81",
   "metadata": {},
   "outputs": [
    {
     "data": {
      "text/plain": [
       "\"\\nException is the process of handling the run time error that can happen.\\nEg, when some one is try to divide a no by 0.\\n    when someone is trying to open the file which doesn't exists. etc\\n\\nException handles any unexpected error in your Python programs and to add debugging capabilities \\n\\nThe main difference between exception and syntax error is that exception try to handle the errors coming at runtime while syntax errors\\noccured during compile time\\n\""
      ]
     },
     "execution_count": 4,
     "metadata": {},
     "output_type": "execute_result"
    }
   ],
   "source": [
    "'''\n",
    "Exception is the process of handling the run time error that can happen.\n",
    "Eg, when some one is try to divide a no by 0.\n",
    "    when someone is trying to open the file which doesn't exists. etc\n",
    "\n",
    "Exception handles any unexpected error in your Python programs and to add debugging capabilities \n",
    "\n",
    "The main difference between exception and syntax error is that exception try to handle the errors coming at runtime while syntax errors\n",
    "occured during compile time\n",
    "'''"
   ]
  },
  {
   "cell_type": "markdown",
   "id": "69cd4bb4-14d2-4339-a880-cd92c05fd659",
   "metadata": {},
   "source": [
    "Q2. Wha\n",
    "t happens when\n",
    "an exception is not handled? Explain with\n",
    "an example"
   ]
  },
  {
   "cell_type": "code",
   "execution_count": 2,
   "id": "ff47404a-1a90-4c56-9793-5505aee12070",
   "metadata": {},
   "outputs": [
    {
     "ename": "ZeroDivisionError",
     "evalue": "division by zero",
     "output_type": "error",
     "traceback": [
      "\u001b[0;31m---------------------------------------------------------------------------\u001b[0m",
      "\u001b[0;31mZeroDivisionError\u001b[0m                         Traceback (most recent call last)",
      "Cell \u001b[0;32mIn[2], line 5\u001b[0m\n\u001b[1;32m      1\u001b[0m \u001b[38;5;124;03m'''\u001b[39;00m\n\u001b[1;32m      2\u001b[0m \u001b[38;5;124;03mIf an exception is not handled our program will not run successfully.\u001b[39;00m\n\u001b[1;32m      3\u001b[0m \u001b[38;5;124;03m'''\u001b[39;00m\n\u001b[1;32m      4\u001b[0m a\u001b[38;5;241m=\u001b[39m\u001b[38;5;241m10\u001b[39m\n\u001b[0;32m----> 5\u001b[0m b\u001b[38;5;241m=\u001b[39m\u001b[43ma\u001b[49m\u001b[38;5;241;43m/\u001b[39;49m\u001b[38;5;241;43m0\u001b[39;49m\n\u001b[1;32m      6\u001b[0m \u001b[38;5;28mprint\u001b[39m(b)\n",
      "\u001b[0;31mZeroDivisionError\u001b[0m: division by zero"
     ]
    }
   ],
   "source": [
    "'''\n",
    "If an exception is not handled our program will not run successfully.\n",
    "'''\n",
    "a=10\n",
    "b=a/0\n",
    "print(b)"
   ]
  },
  {
   "cell_type": "code",
   "execution_count": 5,
   "id": "e02dbcda-10b5-4224-8c98-53ba0311e3dc",
   "metadata": {},
   "outputs": [
    {
     "name": "stdout",
     "output_type": "stream",
     "text": [
      "division by zero\n"
     ]
    }
   ],
   "source": [
    "#instead we can try Exception handling\n",
    "a=10\n",
    "try:\n",
    "    b=a/0\n",
    "    print(b)\n",
    "except ZeroDivisionError as e:\n",
    "    print(e)"
   ]
  },
  {
   "cell_type": "markdown",
   "id": "b2fa4709-25e6-491f-8d57-8647cfeab70a",
   "metadata": {},
   "source": [
    "Q3. Which Python statements are used to \n",
    "catch\n",
    "and handle exceptions? Explain with\n",
    "an example"
   ]
  },
  {
   "cell_type": "code",
   "execution_count": 2,
   "id": "74993050-6486-4009-a252-8d925520ba16",
   "metadata": {},
   "outputs": [
    {
     "name": "stdout",
     "output_type": "stream",
     "text": [
      "list index out of range\n"
     ]
    }
   ],
   "source": [
    "#Try and catch are mainly used to handle any error as:\n",
    "list1=[23,34,45,56,67,78]\n",
    "try:\n",
    "    list1[6]\n",
    "except IndexError as IE:\n",
    "    print(IE)\n",
    "    "
   ]
  },
  {
   "cell_type": "code",
   "execution_count": 3,
   "id": "7e3230e5-7843-42fc-83a0-f7528d5417f9",
   "metadata": {},
   "outputs": [],
   "source": [
    "#else is executed after there is no exception in our program\n",
    "#finally is always executed once in a program whether except block is executed or try block is executed"
   ]
  },
  {
   "cell_type": "markdown",
   "id": "51204972-2af2-4c36-bebd-6a6a34096c86",
   "metadata": {},
   "source": [
    "Q4. Explain with\n",
    "an example:\n",
    "#try\n",
    "and else\n",
    "#\n",
    " finally\n",
    "#\n",
    "raise"
   ]
  },
  {
   "cell_type": "code",
   "execution_count": 6,
   "id": "bc2ec249-e162-49ed-9a15-4f59a8b1ac22",
   "metadata": {},
   "outputs": [
    {
     "name": "stdout",
     "output_type": "stream",
     "text": [
      "division by zero\n",
      "This block will be executed always\n"
     ]
    },
    {
     "ename": "Exception",
     "evalue": "Age cannot be negative",
     "output_type": "error",
     "traceback": [
      "\u001b[0;31m---------------------------------------------------------------------------\u001b[0m",
      "\u001b[0;31mException\u001b[0m                                 Traceback (most recent call last)",
      "Cell \u001b[0;32mIn[6], line 13\u001b[0m\n\u001b[1;32m     11\u001b[0m age\u001b[38;5;241m=\u001b[39m\u001b[38;5;241m-\u001b[39m\u001b[38;5;241m23\u001b[39m\n\u001b[1;32m     12\u001b[0m \u001b[38;5;28;01mif\u001b[39;00m age\u001b[38;5;241m<\u001b[39m\u001b[38;5;241m0\u001b[39m:\n\u001b[0;32m---> 13\u001b[0m     \u001b[38;5;28;01mraise\u001b[39;00m \u001b[38;5;167;01mException\u001b[39;00m(\u001b[38;5;124m\"\u001b[39m\u001b[38;5;124mAge cannot be negative\u001b[39m\u001b[38;5;124m\"\u001b[39m)\n",
      "\u001b[0;31mException\u001b[0m: Age cannot be negative"
     ]
    }
   ],
   "source": [
    "#1\n",
    "a=10\n",
    "b=0\n",
    "try:\n",
    "    print(a/b)\n",
    "except ZeroDivisionError as ze:\n",
    "    print(ze)\n",
    "    \n",
    "finally:\n",
    "    print('This block will be executed always')\n",
    "age=-23\n",
    "if age<0:\n",
    "    raise Exception(\"Age cannot be negative\")"
   ]
  },
  {
   "cell_type": "markdown",
   "id": "2f67ad88-8f3b-44ec-8e58-71eb5baf1144",
   "metadata": {},
   "source": [
    "Q5. What\n",
    "are Custom Exceptions in python? Why do we need Custom Ex,eptions? Explain with an example"
   ]
  },
  {
   "cell_type": "code",
   "execution_count": 12,
   "id": "e045fe7f-cfef-41fe-8dcc-3ed1cd920c74",
   "metadata": {},
   "outputs": [],
   "source": [
    "#Custom Exception is the process of define and handle its own errors and exceptions.\n",
    "#Custom exception is needs because sometimes user want to show the customized messages and handle the error with its own way. For example,\n",
    "class UserException(Exception):\n",
    "    def __init__(self,msg):\n",
    "        self.msg=msg\n"
   ]
  },
  {
   "cell_type": "code",
   "execution_count": 14,
   "id": "827417f7-e874-40f8-af30-236f5b6709e0",
   "metadata": {},
   "outputs": [],
   "source": [
    "def validate_password(password):\n",
    "    if len(password)<=8:\n",
    "        raise UserException(\"The length of password cannot be less than 8\")\n",
    "    else:\n",
    "        print(\"The length of password is perfect\")"
   ]
  },
  {
   "cell_type": "code",
   "execution_count": 17,
   "id": "699f2f61-1ec3-453a-a391-3b23f1456617",
   "metadata": {},
   "outputs": [
    {
     "name": "stdin",
     "output_type": "stream",
     "text": [
      "Enter your password #bsn89ns9\n"
     ]
    },
    {
     "name": "stdout",
     "output_type": "stream",
     "text": [
      "The length of password is perfect\n"
     ]
    }
   ],
   "source": [
    "try:\n",
    "    password=input(\"Enter your password\")\n",
    "    validate_password(password)\n",
    "except UserException as UE:\n",
    "    print(UE)"
   ]
  },
  {
   "cell_type": "markdown",
   "id": "1e72c231-e1cb-4c02-a7a1-7dd396716481",
   "metadata": {},
   "source": [
    "Q6. Create\n",
    "custom exception class. Use this class to handle an exception."
   ]
  },
  {
   "cell_type": "code",
   "execution_count": 18,
   "id": "d75272c7-69c4-44a2-ad9d-f51414938eda",
   "metadata": {},
   "outputs": [],
   "source": [
    "class valid_age(Exception):\n",
    "    def __init__(self,msg):\n",
    "        self.msg=msg\n"
   ]
  },
  {
   "cell_type": "code",
   "execution_count": 24,
   "id": "de81520d-69e5-4cb3-b21c-3315add41343",
   "metadata": {},
   "outputs": [],
   "source": [
    "def validate_age(age):\n",
    "    if age<=0:\n",
    "        raise valid_age(\"Age cannot be negative or zero\")\n",
    "    elif age>200:\n",
    "        raise valid_age(\"Age cannot be greater than 200\")\n",
    "    else:\n",
    "        print(\"Your age is correct\")"
   ]
  },
  {
   "cell_type": "code",
   "execution_count": 25,
   "id": "43c36fcd-7af7-4688-a04f-cd61372e3607",
   "metadata": {},
   "outputs": [
    {
     "name": "stdin",
     "output_type": "stream",
     "text": [
      "Enter your correct age 201\n"
     ]
    },
    {
     "name": "stdout",
     "output_type": "stream",
     "text": [
      "Age cannot be greater than 200\n"
     ]
    }
   ],
   "source": [
    "try:\n",
    "    age=int(input(\"Enter your correct age\"))\n",
    "    validate_age(age)\n",
    "except valid_age as va:\n",
    "    print(va)"
   ]
  },
  {
   "cell_type": "code",
   "execution_count": null,
   "id": "bde91e93-e02f-4d4b-b479-e915fd0845ed",
   "metadata": {},
   "outputs": [],
   "source": []
  }
 ],
 "metadata": {
  "kernelspec": {
   "display_name": "Python 3 (ipykernel)",
   "language": "python",
   "name": "python3"
  },
  "language_info": {
   "codemirror_mode": {
    "name": "ipython",
    "version": 3
   },
   "file_extension": ".py",
   "mimetype": "text/x-python",
   "name": "python",
   "nbconvert_exporter": "python",
   "pygments_lexer": "ipython3",
   "version": "3.10.8"
  }
 },
 "nbformat": 4,
 "nbformat_minor": 5
}
