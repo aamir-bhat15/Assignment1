{
 "cells": [
  {
   "cell_type": "markdown",
   "id": "23dcae0b-21a4-4a7c-8286-89e705c0a789",
   "metadata": {},
   "source": [
    "First Unique Character in a String\n",
    "\n",
    "Given a string s, find the first non-repeating character in it and return its index. If it does not exist, return -1.\n",
    "\n",
    "Example 1:\n",
    "Input: s = \"leetcode\"\n",
    "Output: 0\n",
    "\n",
    "Example 2:\n",
    "Input: s = \"loveleetcode\"\n",
    "Output: 2\n",
    "\n",
    "Example 3:\n",
    "Input: s = \"aabb\"\n",
    "Output: -1\n",
    "\n",
    "Constraints:\n",
    "a. 1 <= s.length <= 10^5\n",
    "b. s consists of only lowercase English letters."
   ]
  },
  {
   "cell_type": "code",
   "execution_count": 3,
   "id": "fd1ebabb-5d47-4937-a162-c64bf42fcbe1",
   "metadata": {},
   "outputs": [],
   "source": [
    "def firstUniqChar():\n",
    "    s=\"leetcode\"\n",
    "    for i in range(len(s)):\n",
    "        if s[i] not in s[:i] and s[i] not in s[i+1:]:\n",
    "            return i\n",
    "    return -1"
   ]
  },
  {
   "cell_type": "code",
   "execution_count": 4,
   "id": "e2a8fe0e-6474-4583-b63b-f09718d7b8a4",
   "metadata": {},
   "outputs": [
    {
     "data": {
      "text/plain": [
       "0"
      ]
     },
     "execution_count": 4,
     "metadata": {},
     "output_type": "execute_result"
    }
   ],
   "source": [
    "firstUniqChar()"
   ]
  },
  {
   "cell_type": "code",
   "execution_count": null,
   "id": "292378b7-952a-47e6-96ee-99d7a5c0bb2b",
   "metadata": {},
   "outputs": [],
   "source": []
  }
 ],
 "metadata": {
  "kernelspec": {
   "display_name": "Python 3 (ipykernel)",
   "language": "python",
   "name": "python3"
  },
  "language_info": {
   "codemirror_mode": {
    "name": "ipython",
    "version": 3
   },
   "file_extension": ".py",
   "mimetype": "text/x-python",
   "name": "python",
   "nbconvert_exporter": "python",
   "pygments_lexer": "ipython3",
   "version": "3.10.8"
  }
 },
 "nbformat": 4,
 "nbformat_minor": 5
}
